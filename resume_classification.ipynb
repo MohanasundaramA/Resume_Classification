{
  "cells": [
    {
      "cell_type": "markdown",
      "metadata": {
        "id": "Ki2UCO4RnB_Z"
      },
      "source": [
        "# **RESUME SCREENING**\n",
        "\n",
        "---\n"
      ]
    },
    {
      "cell_type": "markdown",
      "metadata": {
        "id": "-A9SgaToWXl7"
      },
      "source": [
        "**Importing Required Libraries**"
      ]
    },
    {
      "cell_type": "code",
      "execution_count": null,
      "metadata": {
        "id": "gbHnmC1yQQrN"
      },
      "outputs": [],
      "source": [
        "import numpy as np\n",
        "import pandas as pd\n",
        "import matplotlib.pyplot as plt\n",
        "import seaborn as sns\n",
        "import warnings\n",
        "warnings.filterwarnings('ignore')\n",
        "\n",
        "import re\n",
        "import nltk\n",
        "from nltk.corpus import stopwords\n",
        "from sklearn.preprocessing import LabelEncoder, StandardScaler\n",
        "from sklearn.model_selection import train_test_split\n",
        "from sklearn.feature_extraction.text import CountVectorizer, TfidfVectorizer\n",
        "# from scipy.sparse import hstack\n",
        "# from sklearn.multiclass import OneVsRestClassifier\n",
        "# from sklearn.neighbors import KNeighborsClassifier\n",
        "# from sklearn import metrics\n",
        "from sklearn.metrics import accuracy_score\n",
        "\n",
        "from sklearn.linear_model import LogisticRegression\n",
        "from sklearn.neighbors import KNeighborsClassifier\n",
        "from sklearn.svm import LinearSVC\n",
        "from sklearn.ensemble import RandomForestClassifier\n",
        "from xgboost import XGBClassifier\n",
        "\n",
        "from sklearn.model_selection import GridSearchCV\n"
      ]
    },
    {
      "cell_type": "markdown",
      "metadata": {
        "id": "O_yWeObUYJuC"
      },
      "source": [
        "**Connecting with Drive**"
      ]
    },
    {
      "cell_type": "code",
      "source": [
        "from google.colab import drive\n",
        "drive.mount('/content/drive')"
      ],
      "metadata": {
        "colab": {
          "base_uri": "https://localhost:8080/"
        },
        "id": "wB4BlzTUT_6v",
        "outputId": "041ea4e8-104a-4880-aeec-d62cdaf2bdb9"
      },
      "execution_count": null,
      "outputs": [
        {
          "output_type": "stream",
          "name": "stdout",
          "text": [
            "Mounted at /content/drive\n"
          ]
        }
      ]
    },
    {
      "cell_type": "markdown",
      "metadata": {
        "id": "Uk3ofKEmtodY"
      },
      "source": [
        "**Loading Dataset**"
      ]
    },
    {
      "cell_type": "code",
      "execution_count": null,
      "metadata": {
        "colab": {
          "base_uri": "https://localhost:8080/",
          "height": 354
        },
        "id": "b22SE15cQXa_",
        "outputId": "7f7f488f-b3c3-4f42-889a-78f92ec750d0"
      },
      "outputs": [
        {
          "output_type": "execute_result",
          "data": {
            "text/plain": [
              "   Unnamed: 0    industry                              job_designation  \\\n",
              "0           0  Accounting              Billing Manager job description   \n",
              "1           1  Accounting  Accounts Payable Specialist job description   \n",
              "2           2  Accounting               Medical Biller job description   \n",
              "3           3  Accounting                 Cost analyst job description   \n",
              "4           4  Accounting           Payroll Accountant job description   \n",
              "\n",
              "                                     job_description  \\\n",
              "0  We are looking for a Billing Manager to join o...   \n",
              "1  We are looking for an Accounts Payable Special...   \n",
              "2  We are looking for a Medical Biller to join ou...   \n",
              "3  We are looking for a cost analyst to help us a...   \n",
              "4  We are looking for an experienced payroll acco...   \n",
              "\n",
              "                                    responsibilities  \\\n",
              "0  Oversee the preparation of statements and bill...   \n",
              "1  Charge expenses to accounts and cost centers a...   \n",
              "2  Generate revenue by making payment arrangement...   \n",
              "3  Gather and analyze financial data\\nDetermine s...   \n",
              "4  Oversee employee paychecks\\nCalculate net sala...   \n",
              "\n",
              "                                 requirements_skills  \\\n",
              "0  Proven work experience as a Billing Manager or...   \n",
              "1  Proven work experience as an Accounts Payable ...   \n",
              "2  Proven work experience as a Medical Biller or ...   \n",
              "3  Proven experience as a cost analyst, cost spec...   \n",
              "4  Previous experience as a payroll accountant or...   \n",
              "\n",
              "                                           url_links  \n",
              "0  https://resources.workable.com/billing-manager...  \n",
              "1  https://resources.workable.com/accounts-payabl...  \n",
              "2  https://resources.workable.com/medical-biller-...  \n",
              "3  https://resources.workable.com/cost-analyst-jo...  \n",
              "4  https://resources.workable.com/payroll-account...  "
            ],
            "text/html": [
              "\n",
              "  <div id=\"df-0fea185f-b04b-4b22-9ab9-63956befbdb9\">\n",
              "    <div class=\"colab-df-container\">\n",
              "      <div>\n",
              "<style scoped>\n",
              "    .dataframe tbody tr th:only-of-type {\n",
              "        vertical-align: middle;\n",
              "    }\n",
              "\n",
              "    .dataframe tbody tr th {\n",
              "        vertical-align: top;\n",
              "    }\n",
              "\n",
              "    .dataframe thead th {\n",
              "        text-align: right;\n",
              "    }\n",
              "</style>\n",
              "<table border=\"1\" class=\"dataframe\">\n",
              "  <thead>\n",
              "    <tr style=\"text-align: right;\">\n",
              "      <th></th>\n",
              "      <th>Unnamed: 0</th>\n",
              "      <th>industry</th>\n",
              "      <th>job_designation</th>\n",
              "      <th>job_description</th>\n",
              "      <th>responsibilities</th>\n",
              "      <th>requirements_skills</th>\n",
              "      <th>url_links</th>\n",
              "    </tr>\n",
              "  </thead>\n",
              "  <tbody>\n",
              "    <tr>\n",
              "      <th>0</th>\n",
              "      <td>0</td>\n",
              "      <td>Accounting</td>\n",
              "      <td>Billing Manager job description</td>\n",
              "      <td>We are looking for a Billing Manager to join o...</td>\n",
              "      <td>Oversee the preparation of statements and bill...</td>\n",
              "      <td>Proven work experience as a Billing Manager or...</td>\n",
              "      <td>https://resources.workable.com/billing-manager...</td>\n",
              "    </tr>\n",
              "    <tr>\n",
              "      <th>1</th>\n",
              "      <td>1</td>\n",
              "      <td>Accounting</td>\n",
              "      <td>Accounts Payable Specialist job description</td>\n",
              "      <td>We are looking for an Accounts Payable Special...</td>\n",
              "      <td>Charge expenses to accounts and cost centers a...</td>\n",
              "      <td>Proven work experience as an Accounts Payable ...</td>\n",
              "      <td>https://resources.workable.com/accounts-payabl...</td>\n",
              "    </tr>\n",
              "    <tr>\n",
              "      <th>2</th>\n",
              "      <td>2</td>\n",
              "      <td>Accounting</td>\n",
              "      <td>Medical Biller job description</td>\n",
              "      <td>We are looking for a Medical Biller to join ou...</td>\n",
              "      <td>Generate revenue by making payment arrangement...</td>\n",
              "      <td>Proven work experience as a Medical Biller or ...</td>\n",
              "      <td>https://resources.workable.com/medical-biller-...</td>\n",
              "    </tr>\n",
              "    <tr>\n",
              "      <th>3</th>\n",
              "      <td>3</td>\n",
              "      <td>Accounting</td>\n",
              "      <td>Cost analyst job description</td>\n",
              "      <td>We are looking for a cost analyst to help us a...</td>\n",
              "      <td>Gather and analyze financial data\\nDetermine s...</td>\n",
              "      <td>Proven experience as a cost analyst, cost spec...</td>\n",
              "      <td>https://resources.workable.com/cost-analyst-jo...</td>\n",
              "    </tr>\n",
              "    <tr>\n",
              "      <th>4</th>\n",
              "      <td>4</td>\n",
              "      <td>Accounting</td>\n",
              "      <td>Payroll Accountant job description</td>\n",
              "      <td>We are looking for an experienced payroll acco...</td>\n",
              "      <td>Oversee employee paychecks\\nCalculate net sala...</td>\n",
              "      <td>Previous experience as a payroll accountant or...</td>\n",
              "      <td>https://resources.workable.com/payroll-account...</td>\n",
              "    </tr>\n",
              "  </tbody>\n",
              "</table>\n",
              "</div>\n",
              "      <button class=\"colab-df-convert\" onclick=\"convertToInteractive('df-0fea185f-b04b-4b22-9ab9-63956befbdb9')\"\n",
              "              title=\"Convert this dataframe to an interactive table.\"\n",
              "              style=\"display:none;\">\n",
              "        \n",
              "  <svg xmlns=\"http://www.w3.org/2000/svg\" height=\"24px\"viewBox=\"0 0 24 24\"\n",
              "       width=\"24px\">\n",
              "    <path d=\"M0 0h24v24H0V0z\" fill=\"none\"/>\n",
              "    <path d=\"M18.56 5.44l.94 2.06.94-2.06 2.06-.94-2.06-.94-.94-2.06-.94 2.06-2.06.94zm-11 1L8.5 8.5l.94-2.06 2.06-.94-2.06-.94L8.5 2.5l-.94 2.06-2.06.94zm10 10l.94 2.06.94-2.06 2.06-.94-2.06-.94-.94-2.06-.94 2.06-2.06.94z\"/><path d=\"M17.41 7.96l-1.37-1.37c-.4-.4-.92-.59-1.43-.59-.52 0-1.04.2-1.43.59L10.3 9.45l-7.72 7.72c-.78.78-.78 2.05 0 2.83L4 21.41c.39.39.9.59 1.41.59.51 0 1.02-.2 1.41-.59l7.78-7.78 2.81-2.81c.8-.78.8-2.07 0-2.86zM5.41 20L4 18.59l7.72-7.72 1.47 1.35L5.41 20z\"/>\n",
              "  </svg>\n",
              "      </button>\n",
              "      \n",
              "  <style>\n",
              "    .colab-df-container {\n",
              "      display:flex;\n",
              "      flex-wrap:wrap;\n",
              "      gap: 12px;\n",
              "    }\n",
              "\n",
              "    .colab-df-convert {\n",
              "      background-color: #E8F0FE;\n",
              "      border: none;\n",
              "      border-radius: 50%;\n",
              "      cursor: pointer;\n",
              "      display: none;\n",
              "      fill: #1967D2;\n",
              "      height: 32px;\n",
              "      padding: 0 0 0 0;\n",
              "      width: 32px;\n",
              "    }\n",
              "\n",
              "    .colab-df-convert:hover {\n",
              "      background-color: #E2EBFA;\n",
              "      box-shadow: 0px 1px 2px rgba(60, 64, 67, 0.3), 0px 1px 3px 1px rgba(60, 64, 67, 0.15);\n",
              "      fill: #174EA6;\n",
              "    }\n",
              "\n",
              "    [theme=dark] .colab-df-convert {\n",
              "      background-color: #3B4455;\n",
              "      fill: #D2E3FC;\n",
              "    }\n",
              "\n",
              "    [theme=dark] .colab-df-convert:hover {\n",
              "      background-color: #434B5C;\n",
              "      box-shadow: 0px 1px 3px 1px rgba(0, 0, 0, 0.15);\n",
              "      filter: drop-shadow(0px 1px 2px rgba(0, 0, 0, 0.3));\n",
              "      fill: #FFFFFF;\n",
              "    }\n",
              "  </style>\n",
              "\n",
              "      <script>\n",
              "        const buttonEl =\n",
              "          document.querySelector('#df-0fea185f-b04b-4b22-9ab9-63956befbdb9 button.colab-df-convert');\n",
              "        buttonEl.style.display =\n",
              "          google.colab.kernel.accessAllowed ? 'block' : 'none';\n",
              "\n",
              "        async function convertToInteractive(key) {\n",
              "          const element = document.querySelector('#df-0fea185f-b04b-4b22-9ab9-63956befbdb9');\n",
              "          const dataTable =\n",
              "            await google.colab.kernel.invokeFunction('convertToInteractive',\n",
              "                                                     [key], {});\n",
              "          if (!dataTable) return;\n",
              "\n",
              "          const docLinkHtml = 'Like what you see? Visit the ' +\n",
              "            '<a target=\"_blank\" href=https://colab.research.google.com/notebooks/data_table.ipynb>data table notebook</a>'\n",
              "            + ' to learn more about interactive tables.';\n",
              "          element.innerHTML = '';\n",
              "          dataTable['output_type'] = 'display_data';\n",
              "          await google.colab.output.renderOutput(dataTable, element);\n",
              "          const docLink = document.createElement('div');\n",
              "          docLink.innerHTML = docLinkHtml;\n",
              "          element.appendChild(docLink);\n",
              "        }\n",
              "      </script>\n",
              "    </div>\n",
              "  </div>\n",
              "  "
            ]
          },
          "metadata": {},
          "execution_count": 4
        }
      ],
      "source": [
        "df = pd.read_csv('/content/drive/MyDrive/Projects/resume/jd_data_designation.csv')\n",
        "df.head(5)"
      ]
    },
    {
      "cell_type": "markdown",
      "metadata": {
        "id": "YQ3jYMHfaN2S"
      },
      "source": [
        "# **Data Information**"
      ]
    },
    {
      "cell_type": "code",
      "execution_count": null,
      "metadata": {
        "colab": {
          "base_uri": "https://localhost:8080/"
        },
        "id": "ZFw-s3PEQ0wK",
        "outputId": "86287a2c-34a3-46fa-a36b-4c87991ff51a"
      },
      "outputs": [
        {
          "output_type": "execute_result",
          "data": {
            "text/plain": [
              "(1029, 7)"
            ]
          },
          "metadata": {},
          "execution_count": 5
        }
      ],
      "source": [
        "df.shape"
      ]
    },
    {
      "cell_type": "code",
      "execution_count": null,
      "metadata": {
        "colab": {
          "base_uri": "https://localhost:8080/"
        },
        "id": "I7vHd0YgQ4Pv",
        "outputId": "c8145009-5f4b-4143-b042-4fffb5ae3473"
      },
      "outputs": [
        {
          "output_type": "stream",
          "name": "stdout",
          "text": [
            "<class 'pandas.core.frame.DataFrame'>\n",
            "RangeIndex: 1029 entries, 0 to 1028\n",
            "Data columns (total 7 columns):\n",
            " #   Column               Non-Null Count  Dtype \n",
            "---  ------               --------------  ----- \n",
            " 0   Unnamed: 0           1029 non-null   int64 \n",
            " 1   industry             1029 non-null   object\n",
            " 2   job_designation      1029 non-null   object\n",
            " 3   job_description      1029 non-null   object\n",
            " 4   responsibilities     1029 non-null   object\n",
            " 5   requirements_skills  1029 non-null   object\n",
            " 6   url_links            1029 non-null   object\n",
            "dtypes: int64(1), object(6)\n",
            "memory usage: 56.4+ KB\n"
          ]
        }
      ],
      "source": [
        "df.info()"
      ]
    },
    {
      "cell_type": "markdown",
      "source": [
        "**Deleting Unwanted Columns**"
      ],
      "metadata": {
        "id": "HKqO0vcMlmi1"
      }
    },
    {
      "cell_type": "code",
      "execution_count": null,
      "metadata": {
        "colab": {
          "base_uri": "https://localhost:8080/",
          "height": 337
        },
        "id": "keuAxavSTIR1",
        "outputId": "7bba1ae5-322f-4b2c-ab27-4dd6f2899dcb"
      },
      "outputs": [
        {
          "output_type": "execute_result",
          "data": {
            "text/plain": [
              "     industry                              job_designation  \\\n",
              "0  Accounting              Billing Manager job description   \n",
              "1  Accounting  Accounts Payable Specialist job description   \n",
              "2  Accounting               Medical Biller job description   \n",
              "3  Accounting                 Cost analyst job description   \n",
              "4  Accounting           Payroll Accountant job description   \n",
              "\n",
              "                                     job_description  \\\n",
              "0  We are looking for a Billing Manager to join o...   \n",
              "1  We are looking for an Accounts Payable Special...   \n",
              "2  We are looking for a Medical Biller to join ou...   \n",
              "3  We are looking for a cost analyst to help us a...   \n",
              "4  We are looking for an experienced payroll acco...   \n",
              "\n",
              "                                    responsibilities  \\\n",
              "0  Oversee the preparation of statements and bill...   \n",
              "1  Charge expenses to accounts and cost centers a...   \n",
              "2  Generate revenue by making payment arrangement...   \n",
              "3  Gather and analyze financial data\\nDetermine s...   \n",
              "4  Oversee employee paychecks\\nCalculate net sala...   \n",
              "\n",
              "                                 requirements_skills  \\\n",
              "0  Proven work experience as a Billing Manager or...   \n",
              "1  Proven work experience as an Accounts Payable ...   \n",
              "2  Proven work experience as a Medical Biller or ...   \n",
              "3  Proven experience as a cost analyst, cost spec...   \n",
              "4  Previous experience as a payroll accountant or...   \n",
              "\n",
              "                                           url_links  \n",
              "0  https://resources.workable.com/billing-manager...  \n",
              "1  https://resources.workable.com/accounts-payabl...  \n",
              "2  https://resources.workable.com/medical-biller-...  \n",
              "3  https://resources.workable.com/cost-analyst-jo...  \n",
              "4  https://resources.workable.com/payroll-account...  "
            ],
            "text/html": [
              "\n",
              "  <div id=\"df-da0de508-069b-41b2-89c5-154131a3a0d4\">\n",
              "    <div class=\"colab-df-container\">\n",
              "      <div>\n",
              "<style scoped>\n",
              "    .dataframe tbody tr th:only-of-type {\n",
              "        vertical-align: middle;\n",
              "    }\n",
              "\n",
              "    .dataframe tbody tr th {\n",
              "        vertical-align: top;\n",
              "    }\n",
              "\n",
              "    .dataframe thead th {\n",
              "        text-align: right;\n",
              "    }\n",
              "</style>\n",
              "<table border=\"1\" class=\"dataframe\">\n",
              "  <thead>\n",
              "    <tr style=\"text-align: right;\">\n",
              "      <th></th>\n",
              "      <th>industry</th>\n",
              "      <th>job_designation</th>\n",
              "      <th>job_description</th>\n",
              "      <th>responsibilities</th>\n",
              "      <th>requirements_skills</th>\n",
              "      <th>url_links</th>\n",
              "    </tr>\n",
              "  </thead>\n",
              "  <tbody>\n",
              "    <tr>\n",
              "      <th>0</th>\n",
              "      <td>Accounting</td>\n",
              "      <td>Billing Manager job description</td>\n",
              "      <td>We are looking for a Billing Manager to join o...</td>\n",
              "      <td>Oversee the preparation of statements and bill...</td>\n",
              "      <td>Proven work experience as a Billing Manager or...</td>\n",
              "      <td>https://resources.workable.com/billing-manager...</td>\n",
              "    </tr>\n",
              "    <tr>\n",
              "      <th>1</th>\n",
              "      <td>Accounting</td>\n",
              "      <td>Accounts Payable Specialist job description</td>\n",
              "      <td>We are looking for an Accounts Payable Special...</td>\n",
              "      <td>Charge expenses to accounts and cost centers a...</td>\n",
              "      <td>Proven work experience as an Accounts Payable ...</td>\n",
              "      <td>https://resources.workable.com/accounts-payabl...</td>\n",
              "    </tr>\n",
              "    <tr>\n",
              "      <th>2</th>\n",
              "      <td>Accounting</td>\n",
              "      <td>Medical Biller job description</td>\n",
              "      <td>We are looking for a Medical Biller to join ou...</td>\n",
              "      <td>Generate revenue by making payment arrangement...</td>\n",
              "      <td>Proven work experience as a Medical Biller or ...</td>\n",
              "      <td>https://resources.workable.com/medical-biller-...</td>\n",
              "    </tr>\n",
              "    <tr>\n",
              "      <th>3</th>\n",
              "      <td>Accounting</td>\n",
              "      <td>Cost analyst job description</td>\n",
              "      <td>We are looking for a cost analyst to help us a...</td>\n",
              "      <td>Gather and analyze financial data\\nDetermine s...</td>\n",
              "      <td>Proven experience as a cost analyst, cost spec...</td>\n",
              "      <td>https://resources.workable.com/cost-analyst-jo...</td>\n",
              "    </tr>\n",
              "    <tr>\n",
              "      <th>4</th>\n",
              "      <td>Accounting</td>\n",
              "      <td>Payroll Accountant job description</td>\n",
              "      <td>We are looking for an experienced payroll acco...</td>\n",
              "      <td>Oversee employee paychecks\\nCalculate net sala...</td>\n",
              "      <td>Previous experience as a payroll accountant or...</td>\n",
              "      <td>https://resources.workable.com/payroll-account...</td>\n",
              "    </tr>\n",
              "  </tbody>\n",
              "</table>\n",
              "</div>\n",
              "      <button class=\"colab-df-convert\" onclick=\"convertToInteractive('df-da0de508-069b-41b2-89c5-154131a3a0d4')\"\n",
              "              title=\"Convert this dataframe to an interactive table.\"\n",
              "              style=\"display:none;\">\n",
              "        \n",
              "  <svg xmlns=\"http://www.w3.org/2000/svg\" height=\"24px\"viewBox=\"0 0 24 24\"\n",
              "       width=\"24px\">\n",
              "    <path d=\"M0 0h24v24H0V0z\" fill=\"none\"/>\n",
              "    <path d=\"M18.56 5.44l.94 2.06.94-2.06 2.06-.94-2.06-.94-.94-2.06-.94 2.06-2.06.94zm-11 1L8.5 8.5l.94-2.06 2.06-.94-2.06-.94L8.5 2.5l-.94 2.06-2.06.94zm10 10l.94 2.06.94-2.06 2.06-.94-2.06-.94-.94-2.06-.94 2.06-2.06.94z\"/><path d=\"M17.41 7.96l-1.37-1.37c-.4-.4-.92-.59-1.43-.59-.52 0-1.04.2-1.43.59L10.3 9.45l-7.72 7.72c-.78.78-.78 2.05 0 2.83L4 21.41c.39.39.9.59 1.41.59.51 0 1.02-.2 1.41-.59l7.78-7.78 2.81-2.81c.8-.78.8-2.07 0-2.86zM5.41 20L4 18.59l7.72-7.72 1.47 1.35L5.41 20z\"/>\n",
              "  </svg>\n",
              "      </button>\n",
              "      \n",
              "  <style>\n",
              "    .colab-df-container {\n",
              "      display:flex;\n",
              "      flex-wrap:wrap;\n",
              "      gap: 12px;\n",
              "    }\n",
              "\n",
              "    .colab-df-convert {\n",
              "      background-color: #E8F0FE;\n",
              "      border: none;\n",
              "      border-radius: 50%;\n",
              "      cursor: pointer;\n",
              "      display: none;\n",
              "      fill: #1967D2;\n",
              "      height: 32px;\n",
              "      padding: 0 0 0 0;\n",
              "      width: 32px;\n",
              "    }\n",
              "\n",
              "    .colab-df-convert:hover {\n",
              "      background-color: #E2EBFA;\n",
              "      box-shadow: 0px 1px 2px rgba(60, 64, 67, 0.3), 0px 1px 3px 1px rgba(60, 64, 67, 0.15);\n",
              "      fill: #174EA6;\n",
              "    }\n",
              "\n",
              "    [theme=dark] .colab-df-convert {\n",
              "      background-color: #3B4455;\n",
              "      fill: #D2E3FC;\n",
              "    }\n",
              "\n",
              "    [theme=dark] .colab-df-convert:hover {\n",
              "      background-color: #434B5C;\n",
              "      box-shadow: 0px 1px 3px 1px rgba(0, 0, 0, 0.15);\n",
              "      filter: drop-shadow(0px 1px 2px rgba(0, 0, 0, 0.3));\n",
              "      fill: #FFFFFF;\n",
              "    }\n",
              "  </style>\n",
              "\n",
              "      <script>\n",
              "        const buttonEl =\n",
              "          document.querySelector('#df-da0de508-069b-41b2-89c5-154131a3a0d4 button.colab-df-convert');\n",
              "        buttonEl.style.display =\n",
              "          google.colab.kernel.accessAllowed ? 'block' : 'none';\n",
              "\n",
              "        async function convertToInteractive(key) {\n",
              "          const element = document.querySelector('#df-da0de508-069b-41b2-89c5-154131a3a0d4');\n",
              "          const dataTable =\n",
              "            await google.colab.kernel.invokeFunction('convertToInteractive',\n",
              "                                                     [key], {});\n",
              "          if (!dataTable) return;\n",
              "\n",
              "          const docLinkHtml = 'Like what you see? Visit the ' +\n",
              "            '<a target=\"_blank\" href=https://colab.research.google.com/notebooks/data_table.ipynb>data table notebook</a>'\n",
              "            + ' to learn more about interactive tables.';\n",
              "          element.innerHTML = '';\n",
              "          dataTable['output_type'] = 'display_data';\n",
              "          await google.colab.output.renderOutput(dataTable, element);\n",
              "          const docLink = document.createElement('div');\n",
              "          docLink.innerHTML = docLinkHtml;\n",
              "          element.appendChild(docLink);\n",
              "        }\n",
              "      </script>\n",
              "    </div>\n",
              "  </div>\n",
              "  "
            ]
          },
          "metadata": {},
          "execution_count": 7
        }
      ],
      "source": [
        "df.drop('Unnamed: 0', inplace=True, axis=1)\n",
        "df.head()"
      ]
    },
    {
      "cell_type": "code",
      "execution_count": null,
      "metadata": {
        "colab": {
          "base_uri": "https://localhost:8080/"
        },
        "id": "8RD50o38Q0yo",
        "outputId": "a8a9f803-1967-4240-bbf6-e88d8b1ab371"
      },
      "outputs": [
        {
          "output_type": "execute_result",
          "data": {
            "text/plain": [
              "industry               0\n",
              "job_designation        0\n",
              "job_description        0\n",
              "responsibilities       0\n",
              "requirements_skills    0\n",
              "url_links              0\n",
              "dtype: int64"
            ]
          },
          "metadata": {},
          "execution_count": 8
        }
      ],
      "source": [
        "df.isnull().sum()"
      ]
    },
    {
      "cell_type": "markdown",
      "source": [
        "**Categories**"
      ],
      "metadata": {
        "id": "OhdqUtcTDNV-"
      }
    },
    {
      "cell_type": "code",
      "source": [
        "industries = df['industry'].tolist()\n",
        "categories = []\n",
        "m=0\n",
        "for i in industries:\n",
        "  if i not in categories:\n",
        "    categories.append(i)\n",
        "    print(m, i)\n",
        "    m+=1"
      ],
      "metadata": {
        "colab": {
          "base_uri": "https://localhost:8080/"
        },
        "id": "5LtgH9wxS08I",
        "outputId": "437568ab-8254-470f-c64b-16f03072aa8d"
      },
      "execution_count": null,
      "outputs": [
        {
          "output_type": "stream",
          "name": "stdout",
          "text": [
            "0 Accounting\n",
            "1 Finance\n",
            "2 Administrative\n",
            "3 IT and Development\n",
            "4 Design\n",
            "5 Customer service\n",
            "6 Educator & Education\n",
            "7 Corporate training\n",
            "8 Engineering\n",
            "9 Construction\n",
            "10 Production\n",
            "11 Healthcare\n",
            "12 Pharmaceuticals\n",
            "13 Hospitality\n",
            "14 Travel & Tourism\n",
            "15 Human Resources (HR)\n",
            "16 Law enforcement / Security\n",
            "17 Legal\n",
            "18 Logistics\n",
            "19 Facilities\n",
            "20 Marketing\n",
            "21 Public Relations (PR)\n",
            "22 Media\n",
            "23 Real estate\n",
            "24 Sales\n",
            "25 Retail\n"
          ]
        }
      ]
    },
    {
      "cell_type": "code",
      "execution_count": null,
      "metadata": {
        "colab": {
          "base_uri": "https://localhost:8080/",
          "height": 864
        },
        "id": "nNWt1V2JQXWy",
        "outputId": "c5d42896-a355-47cf-9cea-efdeb9c9d612"
      },
      "outputs": [
        {
          "output_type": "execute_result",
          "data": {
            "text/plain": [
              "                         index  industry\n",
              "0                   Healthcare       120\n",
              "1               Administrative        97\n",
              "2           IT and Development        89\n",
              "3         Human Resources (HR)        85\n",
              "4                    Marketing        68\n",
              "5                  Hospitality        58\n",
              "6                        Sales        57\n",
              "7             Customer service        53\n",
              "8                   Accounting        43\n",
              "9         Educator & Education        37\n",
              "10                     Finance        36\n",
              "11                Construction        30\n",
              "12                       Media        30\n",
              "13                   Logistics        28\n",
              "14                 Engineering        27\n",
              "15                  Production        26\n",
              "16                       Legal        22\n",
              "17  Law enforcement / Security        22\n",
              "18          Corporate training        21\n",
              "19                  Facilities        20\n",
              "20                      Design        14\n",
              "21                      Retail        14\n",
              "22            Travel & Tourism        10\n",
              "23       Public Relations (PR)        10\n",
              "24             Pharmaceuticals         6\n",
              "25                 Real estate         6"
            ],
            "text/html": [
              "\n",
              "  <div id=\"df-1cf39ae0-8412-48ee-855a-1944992e2303\">\n",
              "    <div class=\"colab-df-container\">\n",
              "      <div>\n",
              "<style scoped>\n",
              "    .dataframe tbody tr th:only-of-type {\n",
              "        vertical-align: middle;\n",
              "    }\n",
              "\n",
              "    .dataframe tbody tr th {\n",
              "        vertical-align: top;\n",
              "    }\n",
              "\n",
              "    .dataframe thead th {\n",
              "        text-align: right;\n",
              "    }\n",
              "</style>\n",
              "<table border=\"1\" class=\"dataframe\">\n",
              "  <thead>\n",
              "    <tr style=\"text-align: right;\">\n",
              "      <th></th>\n",
              "      <th>index</th>\n",
              "      <th>industry</th>\n",
              "    </tr>\n",
              "  </thead>\n",
              "  <tbody>\n",
              "    <tr>\n",
              "      <th>0</th>\n",
              "      <td>Healthcare</td>\n",
              "      <td>120</td>\n",
              "    </tr>\n",
              "    <tr>\n",
              "      <th>1</th>\n",
              "      <td>Administrative</td>\n",
              "      <td>97</td>\n",
              "    </tr>\n",
              "    <tr>\n",
              "      <th>2</th>\n",
              "      <td>IT and Development</td>\n",
              "      <td>89</td>\n",
              "    </tr>\n",
              "    <tr>\n",
              "      <th>3</th>\n",
              "      <td>Human Resources (HR)</td>\n",
              "      <td>85</td>\n",
              "    </tr>\n",
              "    <tr>\n",
              "      <th>4</th>\n",
              "      <td>Marketing</td>\n",
              "      <td>68</td>\n",
              "    </tr>\n",
              "    <tr>\n",
              "      <th>5</th>\n",
              "      <td>Hospitality</td>\n",
              "      <td>58</td>\n",
              "    </tr>\n",
              "    <tr>\n",
              "      <th>6</th>\n",
              "      <td>Sales</td>\n",
              "      <td>57</td>\n",
              "    </tr>\n",
              "    <tr>\n",
              "      <th>7</th>\n",
              "      <td>Customer service</td>\n",
              "      <td>53</td>\n",
              "    </tr>\n",
              "    <tr>\n",
              "      <th>8</th>\n",
              "      <td>Accounting</td>\n",
              "      <td>43</td>\n",
              "    </tr>\n",
              "    <tr>\n",
              "      <th>9</th>\n",
              "      <td>Educator &amp; Education</td>\n",
              "      <td>37</td>\n",
              "    </tr>\n",
              "    <tr>\n",
              "      <th>10</th>\n",
              "      <td>Finance</td>\n",
              "      <td>36</td>\n",
              "    </tr>\n",
              "    <tr>\n",
              "      <th>11</th>\n",
              "      <td>Construction</td>\n",
              "      <td>30</td>\n",
              "    </tr>\n",
              "    <tr>\n",
              "      <th>12</th>\n",
              "      <td>Media</td>\n",
              "      <td>30</td>\n",
              "    </tr>\n",
              "    <tr>\n",
              "      <th>13</th>\n",
              "      <td>Logistics</td>\n",
              "      <td>28</td>\n",
              "    </tr>\n",
              "    <tr>\n",
              "      <th>14</th>\n",
              "      <td>Engineering</td>\n",
              "      <td>27</td>\n",
              "    </tr>\n",
              "    <tr>\n",
              "      <th>15</th>\n",
              "      <td>Production</td>\n",
              "      <td>26</td>\n",
              "    </tr>\n",
              "    <tr>\n",
              "      <th>16</th>\n",
              "      <td>Legal</td>\n",
              "      <td>22</td>\n",
              "    </tr>\n",
              "    <tr>\n",
              "      <th>17</th>\n",
              "      <td>Law enforcement / Security</td>\n",
              "      <td>22</td>\n",
              "    </tr>\n",
              "    <tr>\n",
              "      <th>18</th>\n",
              "      <td>Corporate training</td>\n",
              "      <td>21</td>\n",
              "    </tr>\n",
              "    <tr>\n",
              "      <th>19</th>\n",
              "      <td>Facilities</td>\n",
              "      <td>20</td>\n",
              "    </tr>\n",
              "    <tr>\n",
              "      <th>20</th>\n",
              "      <td>Design</td>\n",
              "      <td>14</td>\n",
              "    </tr>\n",
              "    <tr>\n",
              "      <th>21</th>\n",
              "      <td>Retail</td>\n",
              "      <td>14</td>\n",
              "    </tr>\n",
              "    <tr>\n",
              "      <th>22</th>\n",
              "      <td>Travel &amp; Tourism</td>\n",
              "      <td>10</td>\n",
              "    </tr>\n",
              "    <tr>\n",
              "      <th>23</th>\n",
              "      <td>Public Relations (PR)</td>\n",
              "      <td>10</td>\n",
              "    </tr>\n",
              "    <tr>\n",
              "      <th>24</th>\n",
              "      <td>Pharmaceuticals</td>\n",
              "      <td>6</td>\n",
              "    </tr>\n",
              "    <tr>\n",
              "      <th>25</th>\n",
              "      <td>Real estate</td>\n",
              "      <td>6</td>\n",
              "    </tr>\n",
              "  </tbody>\n",
              "</table>\n",
              "</div>\n",
              "      <button class=\"colab-df-convert\" onclick=\"convertToInteractive('df-1cf39ae0-8412-48ee-855a-1944992e2303')\"\n",
              "              title=\"Convert this dataframe to an interactive table.\"\n",
              "              style=\"display:none;\">\n",
              "        \n",
              "  <svg xmlns=\"http://www.w3.org/2000/svg\" height=\"24px\"viewBox=\"0 0 24 24\"\n",
              "       width=\"24px\">\n",
              "    <path d=\"M0 0h24v24H0V0z\" fill=\"none\"/>\n",
              "    <path d=\"M18.56 5.44l.94 2.06.94-2.06 2.06-.94-2.06-.94-.94-2.06-.94 2.06-2.06.94zm-11 1L8.5 8.5l.94-2.06 2.06-.94-2.06-.94L8.5 2.5l-.94 2.06-2.06.94zm10 10l.94 2.06.94-2.06 2.06-.94-2.06-.94-.94-2.06-.94 2.06-2.06.94z\"/><path d=\"M17.41 7.96l-1.37-1.37c-.4-.4-.92-.59-1.43-.59-.52 0-1.04.2-1.43.59L10.3 9.45l-7.72 7.72c-.78.78-.78 2.05 0 2.83L4 21.41c.39.39.9.59 1.41.59.51 0 1.02-.2 1.41-.59l7.78-7.78 2.81-2.81c.8-.78.8-2.07 0-2.86zM5.41 20L4 18.59l7.72-7.72 1.47 1.35L5.41 20z\"/>\n",
              "  </svg>\n",
              "      </button>\n",
              "      \n",
              "  <style>\n",
              "    .colab-df-container {\n",
              "      display:flex;\n",
              "      flex-wrap:wrap;\n",
              "      gap: 12px;\n",
              "    }\n",
              "\n",
              "    .colab-df-convert {\n",
              "      background-color: #E8F0FE;\n",
              "      border: none;\n",
              "      border-radius: 50%;\n",
              "      cursor: pointer;\n",
              "      display: none;\n",
              "      fill: #1967D2;\n",
              "      height: 32px;\n",
              "      padding: 0 0 0 0;\n",
              "      width: 32px;\n",
              "    }\n",
              "\n",
              "    .colab-df-convert:hover {\n",
              "      background-color: #E2EBFA;\n",
              "      box-shadow: 0px 1px 2px rgba(60, 64, 67, 0.3), 0px 1px 3px 1px rgba(60, 64, 67, 0.15);\n",
              "      fill: #174EA6;\n",
              "    }\n",
              "\n",
              "    [theme=dark] .colab-df-convert {\n",
              "      background-color: #3B4455;\n",
              "      fill: #D2E3FC;\n",
              "    }\n",
              "\n",
              "    [theme=dark] .colab-df-convert:hover {\n",
              "      background-color: #434B5C;\n",
              "      box-shadow: 0px 1px 3px 1px rgba(0, 0, 0, 0.15);\n",
              "      filter: drop-shadow(0px 1px 2px rgba(0, 0, 0, 0.3));\n",
              "      fill: #FFFFFF;\n",
              "    }\n",
              "  </style>\n",
              "\n",
              "      <script>\n",
              "        const buttonEl =\n",
              "          document.querySelector('#df-1cf39ae0-8412-48ee-855a-1944992e2303 button.colab-df-convert');\n",
              "        buttonEl.style.display =\n",
              "          google.colab.kernel.accessAllowed ? 'block' : 'none';\n",
              "\n",
              "        async function convertToInteractive(key) {\n",
              "          const element = document.querySelector('#df-1cf39ae0-8412-48ee-855a-1944992e2303');\n",
              "          const dataTable =\n",
              "            await google.colab.kernel.invokeFunction('convertToInteractive',\n",
              "                                                     [key], {});\n",
              "          if (!dataTable) return;\n",
              "\n",
              "          const docLinkHtml = 'Like what you see? Visit the ' +\n",
              "            '<a target=\"_blank\" href=https://colab.research.google.com/notebooks/data_table.ipynb>data table notebook</a>'\n",
              "            + ' to learn more about interactive tables.';\n",
              "          element.innerHTML = '';\n",
              "          dataTable['output_type'] = 'display_data';\n",
              "          await google.colab.output.renderOutput(dataTable, element);\n",
              "          const docLink = document.createElement('div');\n",
              "          docLink.innerHTML = docLinkHtml;\n",
              "          element.appendChild(docLink);\n",
              "        }\n",
              "      </script>\n",
              "    </div>\n",
              "  </div>\n",
              "  "
            ]
          },
          "metadata": {},
          "execution_count": 10
        }
      ],
      "source": [
        "category = df['industry'].value_counts().reset_index()\n",
        "category"
      ]
    },
    {
      "cell_type": "markdown",
      "metadata": {
        "id": "ylz7S6qOcSR5"
      },
      "source": [
        "**Visualizating Target Class**"
      ]
    },
    {
      "cell_type": "code",
      "execution_count": null,
      "metadata": {
        "colab": {
          "base_uri": "https://localhost:8080/",
          "height": 676
        },
        "id": "O6YErVu3exCw",
        "outputId": "eef49220-6b46-45be-f513-5896c3afe494"
      },
      "outputs": [
        {
          "output_type": "display_data",
          "data": {
            "text/plain": [
              "<Figure size 1080x576 with 1 Axes>"
            ],
            "image/png": "[encoded data removed]"
          },
          "metadata": {
            "needs_background": "light"
          }
        }
      ],
      "source": [
        "plt.figure(figsize=(15,8))\n",
        "countplot = sns.countplot(x='industry', palette='dark',data=df)\n",
        "plt.ylabel(\"Count of each industry\", size = 15)\n",
        "plt.xlabel(\"Industry\", size = 20)\n",
        "countplot.set_xticklabels(countplot.get_xticklabels(), rotation=90, size = 13)\n",
        "plt.show()"
      ]
    },
    {
      "cell_type": "markdown",
      "source": [
        "**Class Imbalance**"
      ],
      "metadata": {
        "id": "7LNEWMDKHi4D"
      }
    },
    {
      "cell_type": "code",
      "source": [
        "no_sample = max(df['industry'].value_counts())\n",
        "\n",
        "balanced_df=df.groupby(\n",
        "    \"industry\",\n",
        "    as_index=False,\n",
        "    group_keys=False\n",
        "  ).apply(\n",
        "    lambda s: s.sample(no_sample,replace=True)\n",
        ")\n",
        "balanced_df.shape"
      ],
      "metadata": {
        "colab": {
          "base_uri": "https://localhost:8080/"
        },
        "id": "wEDKaE79GXxt",
        "outputId": "ffdd414a-561f-4b23-ab66-215da882f328"
      },
      "execution_count": null,
      "outputs": [
        {
          "output_type": "execute_result",
          "data": {
            "text/plain": [
              "(3120, 6)"
            ]
          },
          "metadata": {},
          "execution_count": 12
        }
      ]
    },
    {
      "cell_type": "code",
      "source": [
        "df = balanced_df"
      ],
      "metadata": {
        "id": "iCKh-1BlHrph"
      },
      "execution_count": null,
      "outputs": []
    },
    {
      "cell_type": "code",
      "source": [
        "df['industry'].value_counts()"
      ],
      "metadata": {
        "colab": {
          "base_uri": "https://localhost:8080/"
        },
        "id": "hEAwCHlWH59n",
        "outputId": "a38dbcc5-e481-4ed5-d4af-57a17ed5af8d"
      },
      "execution_count": null,
      "outputs": [
        {
          "output_type": "execute_result",
          "data": {
            "text/plain": [
              "Accounting                    120\n",
              "Administrative                120\n",
              "Sales                         120\n",
              "Retail                        120\n",
              "Real estate                   120\n",
              "Public Relations (PR)         120\n",
              "Production                    120\n",
              "Pharmaceuticals               120\n",
              "Media                         120\n",
              "Marketing                     120\n",
              "Logistics                     120\n",
              "Legal                         120\n",
              "Law enforcement / Security    120\n",
              "IT and Development            120\n",
              "Human Resources (HR)          120\n",
              "Hospitality                   120\n",
              "Healthcare                    120\n",
              "Finance                       120\n",
              "Facilities                    120\n",
              "Engineering                   120\n",
              "Educator & Education          120\n",
              "Design                        120\n",
              "Customer service              120\n",
              "Corporate training            120\n",
              "Construction                  120\n",
              "Travel & Tourism              120\n",
              "Name: industry, dtype: int64"
            ]
          },
          "metadata": {},
          "execution_count": 14
        }
      ]
    },
    {
      "cell_type": "markdown",
      "metadata": {
        "id": "lOzi-FuCc5ij"
      },
      "source": [
        "# **Text Preprocessing**"
      ]
    },
    {
      "cell_type": "markdown",
      "metadata": {
        "id": "XID-uQHKYAvL"
      },
      "source": [
        "**Downloading Nltk Tools**"
      ]
    },
    {
      "cell_type": "code",
      "execution_count": null,
      "metadata": {
        "colab": {
          "base_uri": "https://localhost:8080/"
        },
        "id": "WyzIUg1vZD5h",
        "outputId": "71139f1c-474f-4449-afff-0359b72aa5c8"
      },
      "outputs": [
        {
          "output_type": "stream",
          "name": "stderr",
          "text": [
            "[nltk_data] Downloading package stopwords to /root/nltk_data...\n",
            "[nltk_data]   Unzipping corpora/stopwords.zip.\n",
            "[nltk_data] Downloading package wordnet to /root/nltk_data...\n",
            "[nltk_data] Downloading package omw-1.4 to /root/nltk_data...\n",
            "[nltk_data] Downloading package punkt to /root/nltk_data...\n",
            "[nltk_data]   Unzipping tokenizers/punkt.zip.\n"
          ]
        }
      ],
      "source": [
        "nltk.download('stopwords')\n",
        "nltk.download('wordnet')\n",
        "nltk.download('omw-1.4')\n",
        "nltk.download('punkt')\n",
        "stop_words = set(stopwords.words('english'))"
      ]
    },
    {
      "cell_type": "code",
      "execution_count": null,
      "metadata": {
        "id": "z1qVrhx5TIRz"
      },
      "outputs": [],
      "source": [
        "def cleanResume(resumeText):\n",
        "    resumeText = re.sub('\\r\\n', ' ', resumeText)\n",
        "    resumeText = re.sub('[%s]' % re.escape(\"\"\"!\"#$%&'()*+,-/:;<=>?@[\\]^_`{|}~\"\"\"), ' ', resumeText)\n",
        "    resumeText = re.sub(r'[^\\x00-\\x7f]',r' ', resumeText)\n",
        "    resumeText = re.sub('\\s+', ' ', resumeText)\n",
        "    resumeText = resumeText.replace('job description','')\n",
        "    resumeText = resumeText.lower()\n",
        "    tokens = nltk.word_tokenize(resumeText)\n",
        "    filtered_text = [word for word in tokens if not word in stop_words]\n",
        "    return ' '.join(filtered_text)\n"
      ]
    },
    {
      "cell_type": "code",
      "execution_count": null,
      "metadata": {
        "id": "sX8F1vPLTIR0"
      },
      "outputs": [],
      "source": [
        "df[\"resume\"] = df[['industry', 'job_designation','job_description','responsibilities', 'requirements_skills']].astype(object).apply(\" \".join, axis=1)"
      ]
    },
    {
      "cell_type": "code",
      "execution_count": null,
      "metadata": {
        "colab": {
          "base_uri": "https://localhost:8080/",
          "height": 458
        },
        "id": "SGnbL2rZVnK7",
        "outputId": "6ded5d52-8b5a-4c5c-9069-f5b80536e9a2"
      },
      "outputs": [
        {
          "output_type": "execute_result",
          "data": {
            "text/plain": [
              "      industry                        job_designation  \\\n",
              "23  Accounting  Accounting Supervisor job description   \n",
              "15  Accounting  Collection Specialist job description   \n",
              "17  Accounting    Forensic Accountant job description   \n",
              "33  Accounting         Credit Analyst job description   \n",
              "30  Accounting            Tax Manager job description   \n",
              "\n",
              "                                      job_description  \\\n",
              "23  We are looking for an Accounting Supervisor to...   \n",
              "15  We are looking for a competent Collection Spec...   \n",
              "17  We are looking for a Forensic Accountant to au...   \n",
              "33  We are looking for a professional Credit Analy...   \n",
              "30  We are looking for an experienced Tax Manager ...   \n",
              "\n",
              "                                     responsibilities  \\\n",
              "23  Oversee daily transactions, including accounts...   \n",
              "15  Monitor accounts to identify outstanding debts...   \n",
              "17  Review financial documents to identify inaccur...   \n",
              "33  Assess creditworthiness of existing or prospec...   \n",
              "30  Deliver a full range of tax services in compli...   \n",
              "\n",
              "                                  requirements_skills  \\\n",
              "23  Proven work experience as an Accounting Superv...   \n",
              "15  Proven experience as a Collection Specialist o...   \n",
              "17  Proven work experience as a Forensic Accountan...   \n",
              "33  Proven working experience as a credit analyst\\...   \n",
              "30  Proven work experience as a Tax Manager\\nExcel...   \n",
              "\n",
              "                                            url_links  \\\n",
              "23  https://resources.workable.com/accounting-supe...   \n",
              "15  https://resources.workable.com/collection-spec...   \n",
              "17  https://resources.workable.com/forensic-accoun...   \n",
              "33  https://resources.workable.com/credit-analyst-...   \n",
              "30  https://resources.workable.com/tax-manager-job...   \n",
              "\n",
              "                                               resume  \\\n",
              "23  Accounting Accounting Supervisor job descripti...   \n",
              "15  Accounting Collection Specialist job descripti...   \n",
              "17  Accounting Forensic Accountant job description...   \n",
              "33  Accounting Credit Analyst job description We a...   \n",
              "30  Accounting Tax Manager job description We are ...   \n",
              "\n",
              "                                       processed_data  \n",
              "23  accounting accounting supervisor looking accou...  \n",
              "15  accounting collection specialist looking compe...  \n",
              "17  accounting forensic accountant looking forensi...  \n",
              "33  accounting credit analyst looking professional...  \n",
              "30  accounting tax manager looking experienced tax...  "
            ],
            "text/html": [
              "\n",
              "  <div id=\"df-5b5e88a7-a177-4b27-8fb0-f4489ba6dd76\">\n",
              "    <div class=\"colab-df-container\">\n",
              "      <div>\n",
              "<style scoped>\n",
              "    .dataframe tbody tr th:only-of-type {\n",
              "        vertical-align: middle;\n",
              "    }\n",
              "\n",
              "    .dataframe tbody tr th {\n",
              "        vertical-align: top;\n",
              "    }\n",
              "\n",
              "    .dataframe thead th {\n",
              "        text-align: right;\n",
              "    }\n",
              "</style>\n",
              "<table border=\"1\" class=\"dataframe\">\n",
              "  <thead>\n",
              "    <tr style=\"text-align: right;\">\n",
              "      <th></th>\n",
              "      <th>industry</th>\n",
              "      <th>job_designation</th>\n",
              "      <th>job_description</th>\n",
              "      <th>responsibilities</th>\n",
              "      <th>requirements_skills</th>\n",
              "      <th>url_links</th>\n",
              "      <th>resume</th>\n",
              "      <th>processed_data</th>\n",
              "    </tr>\n",
              "  </thead>\n",
              "  <tbody>\n",
              "    <tr>\n",
              "      <th>23</th>\n",
              "      <td>Accounting</td>\n",
              "      <td>Accounting Supervisor job description</td>\n",
              "      <td>We are looking for an Accounting Supervisor to...</td>\n",
              "      <td>Oversee daily transactions, including accounts...</td>\n",
              "      <td>Proven work experience as an Accounting Superv...</td>\n",
              "      <td>https://resources.workable.com/accounting-supe...</td>\n",
              "      <td>Accounting Accounting Supervisor job descripti...</td>\n",
              "      <td>accounting accounting supervisor looking accou...</td>\n",
              "    </tr>\n",
              "    <tr>\n",
              "      <th>15</th>\n",
              "      <td>Accounting</td>\n",
              "      <td>Collection Specialist job description</td>\n",
              "      <td>We are looking for a competent Collection Spec...</td>\n",
              "      <td>Monitor accounts to identify outstanding debts...</td>\n",
              "      <td>Proven experience as a Collection Specialist o...</td>\n",
              "      <td>https://resources.workable.com/collection-spec...</td>\n",
              "      <td>Accounting Collection Specialist job descripti...</td>\n",
              "      <td>accounting collection specialist looking compe...</td>\n",
              "    </tr>\n",
              "    <tr>\n",
              "      <th>17</th>\n",
              "      <td>Accounting</td>\n",
              "      <td>Forensic Accountant job description</td>\n",
              "      <td>We are looking for a Forensic Accountant to au...</td>\n",
              "      <td>Review financial documents to identify inaccur...</td>\n",
              "      <td>Proven work experience as a Forensic Accountan...</td>\n",
              "      <td>https://resources.workable.com/forensic-accoun...</td>\n",
              "      <td>Accounting Forensic Accountant job description...</td>\n",
              "      <td>accounting forensic accountant looking forensi...</td>\n",
              "    </tr>\n",
              "    <tr>\n",
              "      <th>33</th>\n",
              "      <td>Accounting</td>\n",
              "      <td>Credit Analyst job description</td>\n",
              "      <td>We are looking for a professional Credit Analy...</td>\n",
              "      <td>Assess creditworthiness of existing or prospec...</td>\n",
              "      <td>Proven working experience as a credit analyst\\...</td>\n",
              "      <td>https://resources.workable.com/credit-analyst-...</td>\n",
              "      <td>Accounting Credit Analyst job description We a...</td>\n",
              "      <td>accounting credit analyst looking professional...</td>\n",
              "    </tr>\n",
              "    <tr>\n",
              "      <th>30</th>\n",
              "      <td>Accounting</td>\n",
              "      <td>Tax Manager job description</td>\n",
              "      <td>We are looking for an experienced Tax Manager ...</td>\n",
              "      <td>Deliver a full range of tax services in compli...</td>\n",
              "      <td>Proven work experience as a Tax Manager\\nExcel...</td>\n",
              "      <td>https://resources.workable.com/tax-manager-job...</td>\n",
              "      <td>Accounting Tax Manager job description We are ...</td>\n",
              "      <td>accounting tax manager looking experienced tax...</td>\n",
              "    </tr>\n",
              "  </tbody>\n",
              "</table>\n",
              "</div>\n",
              "      <button class=\"colab-df-convert\" onclick=\"convertToInteractive('df-5b5e88a7-a177-4b27-8fb0-f4489ba6dd76')\"\n",
              "              title=\"Convert this dataframe to an interactive table.\"\n",
              "              style=\"display:none;\">\n",
              "        \n",
              "  <svg xmlns=\"http://www.w3.org/2000/svg\" height=\"24px\"viewBox=\"0 0 24 24\"\n",
              "       width=\"24px\">\n",
              "    <path d=\"M0 0h24v24H0V0z\" fill=\"none\"/>\n",
              "    <path d=\"M18.56 5.44l.94 2.06.94-2.06 2.06-.94-2.06-.94-.94-2.06-.94 2.06-2.06.94zm-11 1L8.5 8.5l.94-2.06 2.06-.94-2.06-.94L8.5 2.5l-.94 2.06-2.06.94zm10 10l.94 2.06.94-2.06 2.06-.94-2.06-.94-.94-2.06-.94 2.06-2.06.94z\"/><path d=\"M17.41 7.96l-1.37-1.37c-.4-.4-.92-.59-1.43-.59-.52 0-1.04.2-1.43.59L10.3 9.45l-7.72 7.72c-.78.78-.78 2.05 0 2.83L4 21.41c.39.39.9.59 1.41.59.51 0 1.02-.2 1.41-.59l7.78-7.78 2.81-2.81c.8-.78.8-2.07 0-2.86zM5.41 20L4 18.59l7.72-7.72 1.47 1.35L5.41 20z\"/>\n",
              "  </svg>\n",
              "      </button>\n",
              "      \n",
              "  <style>\n",
              "    .colab-df-container {\n",
              "      display:flex;\n",
              "      flex-wrap:wrap;\n",
              "      gap: 12px;\n",
              "    }\n",
              "\n",
              "    .colab-df-convert {\n",
              "      background-color: #E8F0FE;\n",
              "      border: none;\n",
              "      border-radius: 50%;\n",
              "      cursor: pointer;\n",
              "      display: none;\n",
              "      fill: #1967D2;\n",
              "      height: 32px;\n",
              "      padding: 0 0 0 0;\n",
              "      width: 32px;\n",
              "    }\n",
              "\n",
              "    .colab-df-convert:hover {\n",
              "      background-color: #E2EBFA;\n",
              "      box-shadow: 0px 1px 2px rgba(60, 64, 67, 0.3), 0px 1px 3px 1px rgba(60, 64, 67, 0.15);\n",
              "      fill: #174EA6;\n",
              "    }\n",
              "\n",
              "    [theme=dark] .colab-df-convert {\n",
              "      background-color: #3B4455;\n",
              "      fill: #D2E3FC;\n",
              "    }\n",
              "\n",
              "    [theme=dark] .colab-df-convert:hover {\n",
              "      background-color: #434B5C;\n",
              "      box-shadow: 0px 1px 3px 1px rgba(0, 0, 0, 0.15);\n",
              "      filter: drop-shadow(0px 1px 2px rgba(0, 0, 0, 0.3));\n",
              "      fill: #FFFFFF;\n",
              "    }\n",
              "  </style>\n",
              "\n",
              "      <script>\n",
              "        const buttonEl =\n",
              "          document.querySelector('#df-5b5e88a7-a177-4b27-8fb0-f4489ba6dd76 button.colab-df-convert');\n",
              "        buttonEl.style.display =\n",
              "          google.colab.kernel.accessAllowed ? 'block' : 'none';\n",
              "\n",
              "        async function convertToInteractive(key) {\n",
              "          const element = document.querySelector('#df-5b5e88a7-a177-4b27-8fb0-f4489ba6dd76');\n",
              "          const dataTable =\n",
              "            await google.colab.kernel.invokeFunction('convertToInteractive',\n",
              "                                                     [key], {});\n",
              "          if (!dataTable) return;\n",
              "\n",
              "          const docLinkHtml = 'Like what you see? Visit the ' +\n",
              "            '<a target=\"_blank\" href=https://colab.research.google.com/notebooks/data_table.ipynb>data table notebook</a>'\n",
              "            + ' to learn more about interactive tables.';\n",
              "          element.innerHTML = '';\n",
              "          dataTable['output_type'] = 'display_data';\n",
              "          await google.colab.output.renderOutput(dataTable, element);\n",
              "          const docLink = document.createElement('div');\n",
              "          docLink.innerHTML = docLinkHtml;\n",
              "          element.appendChild(docLink);\n",
              "        }\n",
              "      </script>\n",
              "    </div>\n",
              "  </div>\n",
              "  "
            ]
          },
          "metadata": {},
          "execution_count": 18
        }
      ],
      "source": [
        "df['processed_data'] = df['resume'].apply(lambda x:cleanResume(x))\n",
        "df.head()"
      ]
    },
    {
      "cell_type": "code",
      "execution_count": null,
      "metadata": {
        "colab": {
          "base_uri": "https://localhost:8080/",
          "height": 493
        },
        "id": "FLuxR5KLpa4p",
        "outputId": "cbcd2fc9-36b9-445a-8016-d42254a59390"
      },
      "outputs": [
        {
          "output_type": "execute_result",
          "data": {
            "text/plain": [
              "      industry                        job_designation  \\\n",
              "23  Accounting  Accounting Supervisor job description   \n",
              "15  Accounting  Collection Specialist job description   \n",
              "17  Accounting    Forensic Accountant job description   \n",
              "33  Accounting         Credit Analyst job description   \n",
              "30  Accounting            Tax Manager job description   \n",
              "\n",
              "                                      job_description  \\\n",
              "23  We are looking for an Accounting Supervisor to...   \n",
              "15  We are looking for a competent Collection Spec...   \n",
              "17  We are looking for a Forensic Accountant to au...   \n",
              "33  We are looking for a professional Credit Analy...   \n",
              "30  We are looking for an experienced Tax Manager ...   \n",
              "\n",
              "                                     responsibilities  \\\n",
              "23  Oversee daily transactions, including accounts...   \n",
              "15  Monitor accounts to identify outstanding debts...   \n",
              "17  Review financial documents to identify inaccur...   \n",
              "33  Assess creditworthiness of existing or prospec...   \n",
              "30  Deliver a full range of tax services in compli...   \n",
              "\n",
              "                                  requirements_skills  \\\n",
              "23  Proven work experience as an Accounting Superv...   \n",
              "15  Proven experience as a Collection Specialist o...   \n",
              "17  Proven work experience as a Forensic Accountan...   \n",
              "33  Proven working experience as a credit analyst\\...   \n",
              "30  Proven work experience as a Tax Manager\\nExcel...   \n",
              "\n",
              "                                            url_links  \\\n",
              "23  https://resources.workable.com/accounting-supe...   \n",
              "15  https://resources.workable.com/collection-spec...   \n",
              "17  https://resources.workable.com/forensic-accoun...   \n",
              "33  https://resources.workable.com/credit-analyst-...   \n",
              "30  https://resources.workable.com/tax-manager-job...   \n",
              "\n",
              "                                               resume  \\\n",
              "23  Accounting Accounting Supervisor job descripti...   \n",
              "15  Accounting Collection Specialist job descripti...   \n",
              "17  Accounting Forensic Accountant job description...   \n",
              "33  Accounting Credit Analyst job description We a...   \n",
              "30  Accounting Tax Manager job description We are ...   \n",
              "\n",
              "                                       processed_data  target  \n",
              "23  accounting accounting supervisor looking accou...       0  \n",
              "15  accounting collection specialist looking compe...       0  \n",
              "17  accounting forensic accountant looking forensi...       0  \n",
              "33  accounting credit analyst looking professional...       0  \n",
              "30  accounting tax manager looking experienced tax...       0  "
            ],
            "text/html": [
              "\n",
              "  <div id=\"df-7c76cfd4-0d96-48aa-8dcd-f09fe71e2011\">\n",
              "    <div class=\"colab-df-container\">\n",
              "      <div>\n",
              "<style scoped>\n",
              "    .dataframe tbody tr th:only-of-type {\n",
              "        vertical-align: middle;\n",
              "    }\n",
              "\n",
              "    .dataframe tbody tr th {\n",
              "        vertical-align: top;\n",
              "    }\n",
              "\n",
              "    .dataframe thead th {\n",
              "        text-align: right;\n",
              "    }\n",
              "</style>\n",
              "<table border=\"1\" class=\"dataframe\">\n",
              "  <thead>\n",
              "    <tr style=\"text-align: right;\">\n",
              "      <th></th>\n",
              "      <th>industry</th>\n",
              "      <th>job_designation</th>\n",
              "      <th>job_description</th>\n",
              "      <th>responsibilities</th>\n",
              "      <th>requirements_skills</th>\n",
              "      <th>url_links</th>\n",
              "      <th>resume</th>\n",
              "      <th>processed_data</th>\n",
              "      <th>target</th>\n",
              "    </tr>\n",
              "  </thead>\n",
              "  <tbody>\n",
              "    <tr>\n",
              "      <th>23</th>\n",
              "      <td>Accounting</td>\n",
              "      <td>Accounting Supervisor job description</td>\n",
              "      <td>We are looking for an Accounting Supervisor to...</td>\n",
              "      <td>Oversee daily transactions, including accounts...</td>\n",
              "      <td>Proven work experience as an Accounting Superv...</td>\n",
              "      <td>https://resources.workable.com/accounting-supe...</td>\n",
              "      <td>Accounting Accounting Supervisor job descripti...</td>\n",
              "      <td>accounting accounting supervisor looking accou...</td>\n",
              "      <td>0</td>\n",
              "    </tr>\n",
              "    <tr>\n",
              "      <th>15</th>\n",
              "      <td>Accounting</td>\n",
              "      <td>Collection Specialist job description</td>\n",
              "      <td>We are looking for a competent Collection Spec...</td>\n",
              "      <td>Monitor accounts to identify outstanding debts...</td>\n",
              "      <td>Proven experience as a Collection Specialist o...</td>\n",
              "      <td>https://resources.workable.com/collection-spec...</td>\n",
              "      <td>Accounting Collection Specialist job descripti...</td>\n",
              "      <td>accounting collection specialist looking compe...</td>\n",
              "      <td>0</td>\n",
              "    </tr>\n",
              "    <tr>\n",
              "      <th>17</th>\n",
              "      <td>Accounting</td>\n",
              "      <td>Forensic Accountant job description</td>\n",
              "      <td>We are looking for a Forensic Accountant to au...</td>\n",
              "      <td>Review financial documents to identify inaccur...</td>\n",
              "      <td>Proven work experience as a Forensic Accountan...</td>\n",
              "      <td>https://resources.workable.com/forensic-accoun...</td>\n",
              "      <td>Accounting Forensic Accountant job description...</td>\n",
              "      <td>accounting forensic accountant looking forensi...</td>\n",
              "      <td>0</td>\n",
              "    </tr>\n",
              "    <tr>\n",
              "      <th>33</th>\n",
              "      <td>Accounting</td>\n",
              "      <td>Credit Analyst job description</td>\n",
              "      <td>We are looking for a professional Credit Analy...</td>\n",
              "      <td>Assess creditworthiness of existing or prospec...</td>\n",
              "      <td>Proven working experience as a credit analyst\\...</td>\n",
              "      <td>https://resources.workable.com/credit-analyst-...</td>\n",
              "      <td>Accounting Credit Analyst job description We a...</td>\n",
              "      <td>accounting credit analyst looking professional...</td>\n",
              "      <td>0</td>\n",
              "    </tr>\n",
              "    <tr>\n",
              "      <th>30</th>\n",
              "      <td>Accounting</td>\n",
              "      <td>Tax Manager job description</td>\n",
              "      <td>We are looking for an experienced Tax Manager ...</td>\n",
              "      <td>Deliver a full range of tax services in compli...</td>\n",
              "      <td>Proven work experience as a Tax Manager\\nExcel...</td>\n",
              "      <td>https://resources.workable.com/tax-manager-job...</td>\n",
              "      <td>Accounting Tax Manager job description We are ...</td>\n",
              "      <td>accounting tax manager looking experienced tax...</td>\n",
              "      <td>0</td>\n",
              "    </tr>\n",
              "  </tbody>\n",
              "</table>\n",
              "</div>\n",
              "      <button class=\"colab-df-convert\" onclick=\"convertToInteractive('df-7c76cfd4-0d96-48aa-8dcd-f09fe71e2011')\"\n",
              "              title=\"Convert this dataframe to an interactive table.\"\n",
              "              style=\"display:none;\">\n",
              "        \n",
              "  <svg xmlns=\"http://www.w3.org/2000/svg\" height=\"24px\"viewBox=\"0 0 24 24\"\n",
              "       width=\"24px\">\n",
              "    <path d=\"M0 0h24v24H0V0z\" fill=\"none\"/>\n",
              "    <path d=\"M18.56 5.44l.94 2.06.94-2.06 2.06-.94-2.06-.94-.94-2.06-.94 2.06-2.06.94zm-11 1L8.5 8.5l.94-2.06 2.06-.94-2.06-.94L8.5 2.5l-.94 2.06-2.06.94zm10 10l.94 2.06.94-2.06 2.06-.94-2.06-.94-.94-2.06-.94 2.06-2.06.94z\"/><path d=\"M17.41 7.96l-1.37-1.37c-.4-.4-.92-.59-1.43-.59-.52 0-1.04.2-1.43.59L10.3 9.45l-7.72 7.72c-.78.78-.78 2.05 0 2.83L4 21.41c.39.39.9.59 1.41.59.51 0 1.02-.2 1.41-.59l7.78-7.78 2.81-2.81c.8-.78.8-2.07 0-2.86zM5.41 20L4 18.59l7.72-7.72 1.47 1.35L5.41 20z\"/>\n",
              "  </svg>\n",
              "      </button>\n",
              "      \n",
              "  <style>\n",
              "    .colab-df-container {\n",
              "      display:flex;\n",
              "      flex-wrap:wrap;\n",
              "      gap: 12px;\n",
              "    }\n",
              "\n",
              "    .colab-df-convert {\n",
              "      background-color: #E8F0FE;\n",
              "      border: none;\n",
              "      border-radius: 50%;\n",
              "      cursor: pointer;\n",
              "      display: none;\n",
              "      fill: #1967D2;\n",
              "      height: 32px;\n",
              "      padding: 0 0 0 0;\n",
              "      width: 32px;\n",
              "    }\n",
              "\n",
              "    .colab-df-convert:hover {\n",
              "      background-color: #E2EBFA;\n",
              "      box-shadow: 0px 1px 2px rgba(60, 64, 67, 0.3), 0px 1px 3px 1px rgba(60, 64, 67, 0.15);\n",
              "      fill: #174EA6;\n",
              "    }\n",
              "\n",
              "    [theme=dark] .colab-df-convert {\n",
              "      background-color: #3B4455;\n",
              "      fill: #D2E3FC;\n",
              "    }\n",
              "\n",
              "    [theme=dark] .colab-df-convert:hover {\n",
              "      background-color: #434B5C;\n",
              "      box-shadow: 0px 1px 3px 1px rgba(0, 0, 0, 0.15);\n",
              "      filter: drop-shadow(0px 1px 2px rgba(0, 0, 0, 0.3));\n",
              "      fill: #FFFFFF;\n",
              "    }\n",
              "  </style>\n",
              "\n",
              "      <script>\n",
              "        const buttonEl =\n",
              "          document.querySelector('#df-7c76cfd4-0d96-48aa-8dcd-f09fe71e2011 button.colab-df-convert');\n",
              "        buttonEl.style.display =\n",
              "          google.colab.kernel.accessAllowed ? 'block' : 'none';\n",
              "\n",
              "        async function convertToInteractive(key) {\n",
              "          const element = document.querySelector('#df-7c76cfd4-0d96-48aa-8dcd-f09fe71e2011');\n",
              "          const dataTable =\n",
              "            await google.colab.kernel.invokeFunction('convertToInteractive',\n",
              "                                                     [key], {});\n",
              "          if (!dataTable) return;\n",
              "\n",
              "          const docLinkHtml = 'Like what you see? Visit the ' +\n",
              "            '<a target=\"_blank\" href=https://colab.research.google.com/notebooks/data_table.ipynb>data table notebook</a>'\n",
              "            + ' to learn more about interactive tables.';\n",
              "          element.innerHTML = '';\n",
              "          dataTable['output_type'] = 'display_data';\n",
              "          await google.colab.output.renderOutput(dataTable, element);\n",
              "          const docLink = document.createElement('div');\n",
              "          docLink.innerHTML = docLinkHtml;\n",
              "          element.appendChild(docLink);\n",
              "        }\n",
              "      </script>\n",
              "    </div>\n",
              "  </div>\n",
              "  "
            ]
          },
          "metadata": {},
          "execution_count": 19
        }
      ],
      "source": [
        "label = LabelEncoder()\n",
        "df['target'] = label.fit_transform(df['industry'])\n",
        "df.head()"
      ]
    },
    {
      "cell_type": "code",
      "execution_count": null,
      "metadata": {
        "colab": {
          "base_uri": "https://localhost:8080/"
        },
        "id": "Y45z-Ys2TIR2",
        "outputId": "8e6f9183-a844-4ff1-a0b9-98fe0c1dc896"
      },
      "outputs": [
        {
          "output_type": "execute_result",
          "data": {
            "text/plain": [
              "array([ 0,  1,  2,  3,  4,  5,  6,  7,  8,  9, 10, 11, 12, 13, 14, 15, 16,\n",
              "       17, 18, 19, 20, 21, 22, 23, 24, 25])"
            ]
          },
          "metadata": {},
          "execution_count": 20
        }
      ],
      "source": [
        "df['target'].unique()"
      ]
    },
    {
      "cell_type": "markdown",
      "metadata": {
        "id": "A-YEEh8Jd-Kw"
      },
      "source": [
        "**Feature Engineering**"
      ]
    },
    {
      "cell_type": "code",
      "execution_count": null,
      "metadata": {
        "id": "kifosYdSLbjj"
      },
      "outputs": [],
      "source": [
        "vectorizer = CountVectorizer()\n",
        "text = vectorizer.fit_transform(df.processed_data).toarray()"
      ]
    },
    {
      "cell_type": "code",
      "execution_count": null,
      "metadata": {
        "colab": {
          "base_uri": "https://localhost:8080/"
        },
        "id": "A94aEm-eXrFH",
        "outputId": "39e10ad5-2e06-4515-81f5-66699fa52aeb"
      },
      "outputs": [
        {
          "output_type": "execute_result",
          "data": {
            "text/plain": [
              "(3120, 7350)"
            ]
          },
          "metadata": {},
          "execution_count": 22
        }
      ],
      "source": [
        "text.shape"
      ]
    },
    {
      "cell_type": "markdown",
      "metadata": {
        "id": "cvy33b-TvRMl"
      },
      "source": [
        "**Train Test Spliting**"
      ]
    },
    {
      "cell_type": "code",
      "source": [
        "X = text\n",
        "y = df['target']"
      ],
      "metadata": {
        "id": "xhxRxJdpGMBp"
      },
      "execution_count": null,
      "outputs": []
    },
    {
      "cell_type": "code",
      "execution_count": null,
      "metadata": {
        "id": "kcoW_IAOsY5w"
      },
      "outputs": [],
      "source": [
        "X_train, X_test, y_train, y_test = train_test_split(X, y, test_size = 0.20, random_state = 0)"
      ]
    },
    {
      "cell_type": "markdown",
      "metadata": {
        "id": "X1qzV7AJld7t"
      },
      "source": [
        "# **Model Building**"
      ]
    },
    {
      "cell_type": "code",
      "source": [
        "models = {}"
      ],
      "metadata": {
        "id": "8XEfumTlGdoO"
      },
      "execution_count": null,
      "outputs": []
    },
    {
      "cell_type": "markdown",
      "metadata": {
        "id": "jnRK8OIKeXGw"
      },
      "source": [
        "**Logistic Regression**"
      ]
    },
    {
      "cell_type": "code",
      "source": [
        "lrmodel = LogisticRegression(max_iter=1000)\n",
        "\n",
        "lrmodel.fit(X_train, y_train)\n",
        "\n",
        "y_pred = lrmodel.predict(X_test)\n",
        "\n",
        "acc = accuracy_score(y_test, y_pred)\n",
        "\n",
        "models['Logistic Regression'] = round(acc*100, 2)\n",
        "print(\"\\nAccuracy Score:\" , acc)"
      ],
      "metadata": {
        "colab": {
          "base_uri": "https://localhost:8080/"
        },
        "id": "woQzmmW1Gdqv",
        "outputId": "d22a2856-31de-4c74-94a3-c8c0f24c4bd9"
      },
      "execution_count": null,
      "outputs": [
        {
          "output_type": "stream",
          "name": "stdout",
          "text": [
            "\n",
            "Accuracy Score: 0.9807692307692307\n"
          ]
        }
      ]
    },
    {
      "cell_type": "markdown",
      "metadata": {
        "id": "uJ6oXmX9ogt4"
      },
      "source": [
        "**KNN Classifier**"
      ]
    },
    {
      "cell_type": "code",
      "source": [
        "knnmodel = KNeighborsClassifier()\n",
        "\n",
        "knnmodel.fit(X_train, y_train)\n",
        "\n",
        "y_pred = knnmodel.predict(X_test)\n",
        "\n",
        "acc = accuracy_score(y_test, y_pred)\n",
        "\n",
        "models['KNN Classifier'] = round(acc*100, 2)\n",
        "\n",
        "print(\"Accuracy Score:\" , acc)"
      ],
      "metadata": {
        "colab": {
          "base_uri": "https://localhost:8080/"
        },
        "id": "crCmuSmAGdvM",
        "outputId": "7397c5db-74b5-4405-eadb-03c6e624299c"
      },
      "execution_count": null,
      "outputs": [
        {
          "output_type": "stream",
          "name": "stdout",
          "text": [
            "Accuracy Score: 0.8894230769230769\n"
          ]
        }
      ]
    },
    {
      "cell_type": "markdown",
      "metadata": {
        "id": "mIBQlOTSmzXb"
      },
      "source": [
        "\n",
        "**Linear Support Vector Classifier**"
      ]
    },
    {
      "cell_type": "code",
      "source": [
        "svcmodel = LinearSVC(random_state=20)\n",
        "\n",
        "svcmodel.fit(X_train, y_train)\n",
        "\n",
        "y_pred = svcmodel.predict(X_test)\n",
        "\n",
        "acc = accuracy_score(y_test, y_pred)\n",
        "\n",
        "models['LinearSupportVector Classifier'] = round(acc*100, 2)\n",
        "\n",
        "print(\"Accuracy Score:\" , acc)"
      ],
      "metadata": {
        "colab": {
          "base_uri": "https://localhost:8080/"
        },
        "id": "XbP92AqpL67x",
        "outputId": "a4c96525-9f06-4861-84d3-b1e557808900"
      },
      "execution_count": null,
      "outputs": [
        {
          "output_type": "stream",
          "name": "stdout",
          "text": [
            "Accuracy Score: 0.9823717948717948\n"
          ]
        }
      ]
    },
    {
      "cell_type": "code",
      "source": [
        "resume_example = ['computer skills proficient ms office word basic excel power point strength hard working loyalty creativity self motivated responsible initiative good people management skill positive attitude knowledge windows internet education details bachelor electrical engineering electrical engineering nashik maharashtra guru gobind singh college engineering research centre diploma electrical engineering nashik maharashtra e polytechnic college testing engineer skill details excel exprience 6 months ms office exprience 6 months word exprience 6 monthscompany details company description department testing responsibilities check acb vcb circuit breaker following test conducted circuit breaker per drawing 1 check breaker timing 2 check contact resistance using contact resistance meter crm 3 check breaker insulation resistance ir 4 check breaker rack rack properly 5 check closing tripping operation work properly check following test conducted mcc pcc panel 1 insulation resistance ir test 2 contact resistance crm test 3 check connection p panel per drawing check following test conducted transformer 1 insulation resistance ir test 2 transformer ratio test 3 transformer vector group test 4 magnetic balance test 5 magnetic current test 6 check transformer tapping remotely well manually 7 check alarm tripping protection command work properly per circuit diagram check test conducted hv cables 1 hi pot test 2 insulation resistance ir test check lv cables using megger ir test check relay connections per circuit diagram create defects list arising testing try find solution minimize problem company trans power solutions description lake site co op soc adi shankaracharya marg opp iit main gate powai 400076']\n",
        "test = vectorizer.transform(resume_example).toarray()\n",
        "y_pred = svcmodel.predict(test)\n",
        "y_pred"
      ],
      "metadata": {
        "colab": {
          "base_uri": "https://localhost:8080/"
        },
        "id": "ylC_S9TNUzZ6",
        "outputId": "07c25df4-a6eb-4a4f-a981-07ce71a59f33"
      },
      "execution_count": null,
      "outputs": [
        {
          "output_type": "execute_result",
          "data": {
            "text/plain": [
              "array([7])"
            ]
          },
          "metadata": {},
          "execution_count": 29
        }
      ]
    },
    {
      "cell_type": "markdown",
      "metadata": {
        "id": "aSoC-LfYkXHW"
      },
      "source": [
        "**Random Forest Classifier**"
      ]
    },
    {
      "cell_type": "code",
      "source": [
        "rfmodel = RandomForestClassifier()\n",
        "\n",
        "rfmodel.fit(X_train, y_train)\n",
        "\n",
        "y_preds = rfmodel.predict(X_test)\n",
        "\n",
        "acc1 = accuracy_score(y_test, y_preds)\n",
        "\n",
        "models['RandomForest Classifier'] = round(acc*100, 2)\n",
        "print(\"Accuracy Score:\",acc1)"
      ],
      "metadata": {
        "colab": {
          "base_uri": "https://localhost:8080/"
        },
        "id": "JO7O-c6tGdsx",
        "outputId": "aadfee2c-a72d-434e-b047-9ee9dcc31b2b"
      },
      "execution_count": null,
      "outputs": [
        {
          "output_type": "stream",
          "name": "stdout",
          "text": [
            "Accuracy Score: 0.9775641025641025\n"
          ]
        }
      ]
    },
    {
      "cell_type": "markdown",
      "source": [
        "**XGBoost Classifier**"
      ],
      "metadata": {
        "id": "JSJi1yUzm1IX"
      }
    },
    {
      "cell_type": "code",
      "source": [
        "xgbmodel = XGBClassifier()\n",
        "\n",
        "xgbmodel.fit(X_train, y_train)\n",
        "\n",
        "y_pred = xgbmodel.predict(X_test)\n",
        "\n",
        "acc = accuracy_score(y_test, y_pred)\n",
        "\n",
        "models['XGBoost Classifier'] = round(acc*100, 2)\n",
        "\n",
        "print(\"Accuracy Score:\" , acc)"
      ],
      "metadata": {
        "id": "r7NqvLq6Gdyt",
        "colab": {
          "base_uri": "https://localhost:8080/"
        },
        "outputId": "24c44a4e-e4a9-42b3-a78b-addecb396319"
      },
      "execution_count": null,
      "outputs": [
        {
          "output_type": "stream",
          "name": "stdout",
          "text": [
            "Accuracy Score: 0.9839743589743589\n"
          ]
        }
      ]
    },
    {
      "cell_type": "markdown",
      "source": [
        "**Finding Best Model**"
      ],
      "metadata": {
        "id": "NzRtiV4VnOve"
      }
    },
    {
      "cell_type": "code",
      "source": [
        "for i,j in models.items():\n",
        "  print(\"{} : {}%\".format(i,j))"
      ],
      "metadata": {
        "colab": {
          "base_uri": "https://localhost:8080/"
        },
        "id": "3PkUOO7qHD56",
        "outputId": "dc130ed7-1d10-491c-e585-1880332efbd6"
      },
      "execution_count": null,
      "outputs": [
        {
          "output_type": "stream",
          "name": "stdout",
          "text": [
            "Logistic Regression : 98.08%\n",
            "KNN Classifier : 88.94%\n",
            "LinearSupportVector Classifier : 98.24%\n",
            "RandomForest Classifier : 98.24%\n",
            "XGBoost Classifier : 98.4%\n"
          ]
        }
      ]
    },
    {
      "cell_type": "code",
      "source": [
        "bestmodel = max(models, key= lambda x: models[x])\n",
        "print(\"{} is the best model with accuracy of {}%\".format(bestmodel, models[bestmodel]))"
      ],
      "metadata": {
        "colab": {
          "base_uri": "https://localhost:8080/"
        },
        "id": "jq0KceYsHD8z",
        "outputId": "2ecf6933-933f-4a66-875f-3107b54865c9"
      },
      "execution_count": null,
      "outputs": [
        {
          "output_type": "stream",
          "name": "stdout",
          "text": [
            "XGBoost Classifier is the best model with accuracy of 98.4%\n"
          ]
        }
      ]
    },
    {
      "cell_type": "markdown",
      "metadata": {
        "id": "R2RXhMBCvsAD"
      },
      "source": [
        "**Hyperparameter tuning**"
      ]
    },
    {
      "cell_type": "code",
      "source": [
        "parameters = {'C': [0.1, 1, 10, 100, 1000], \n",
        "              'loss' : ['hinge', 'squared_hinge'],\n",
        "              'max_iter' : [100, 200, 1000]\n",
        "             }\n",
        "bestmodel = GridSearchCV(estimator = svcmodel, param_grid = parameters, scoring = 'accuracy', cv = 3, n_jobs = -1)\n",
        "bestmodel.fit(X_train, y_train)\n",
        "print(\"Accuracy score : {}% \\nBest parameters : {}\".format(round(bestmodel.best_score_,2), bestmodel.best_params_))"
      ],
      "metadata": {
        "colab": {
          "base_uri": "https://localhost:8080/"
        },
        "id": "tVppag6vNba1",
        "outputId": "7676a713-e20b-40a7-e46f-eddbd540e01b"
      },
      "execution_count": null,
      "outputs": [
        {
          "output_type": "stream",
          "name": "stdout",
          "text": [
            "Accuracy score : 0.97% \n",
            "Best parameters : {'C': 1, 'loss': 'squared_hinge', 'max_iter': 1000}\n"
          ]
        }
      ]
    },
    {
      "cell_type": "markdown",
      "source": [
        "# **New Data Prediction**"
      ],
      "metadata": {
        "id": "ncTjsxkNPuz8"
      }
    },
    {
      "cell_type": "code",
      "execution_count": null,
      "metadata": {
        "colab": {
          "base_uri": "https://localhost:8080/",
          "height": 373
        },
        "id": "3DltosnOxhq6",
        "outputId": "0dcb1019-ff22-49d0-db45-0286fb912b72"
      },
      "outputs": [
        {
          "output_type": "error",
          "ename": "NameError",
          "evalue": "ignored",
          "traceback": [
            "\u001b[0;31m---------------------------------------------------------------------------\u001b[0m",
            "\u001b[0;31mNameError\u001b[0m                                 Traceback (most recent call last)",
            "\u001b[0;32m<ipython-input-35-41a4b46d87ac>\u001b[0m in \u001b[0;36m<module>\u001b[0;34m\u001b[0m\n\u001b[1;32m      2\u001b[0m \u001b[0maccounting\u001b[0m \u001b[0;34m=\u001b[0m \u001b[0;34m[\u001b[0m\u001b[0;34m'EDUCATION Master of Business Administration Accounting University of Texas August 2010 - May 2012 Austin, TX Bachelor of Arts Accounting University of Texas August 2006 - May 2010 Austin, TX SKILLS QuickBooks Taxjar GAAP accounting principles Accounts payable Account receivable Financial reporting Tax accounting Expense reporting CERTIFICATIONS Certified Public Accountant (CPA) ey O/ ee eee ET ae CAREER OBJECTIVE With over a decade of experience establishing best accounting practices at growing tech companies, | have learned the value of proactively identifying and removing roadblocks to allow accounting to scale with the company. Motivated to continue this work at an early-stage financial consumer startup like AffiniPay. WORK EXPERIENCE Senior Accountant Teachers Pay Teachers July 2016 - current / Austin, TX » Established best practices for revenue recognition in compliance with ASC 606 through 50% YoY revenue growth Built out processes for monthly and quarterly filing of sales tax returns and registration in new states as required Oversaw balance sheet across cash accounts, accounts receivable, prepaid assets, fixed assets, accounts payable, and accrued expenses Partnered with management to drive business processes to improve efficiency of financial reporting by 40% Led a team of 2 junior accountants, providing mentorship and feedback through weekly 1:1 sessions Accountant Namely June 2071 - June 2016...\n\u001b[1;32m      3\u001b[0m \u001b[0;34m\u001b[0m\u001b[0m\n\u001b[0;32m----> 4\u001b[0;31m \u001b[0mtest\u001b[0m \u001b[0;34m=\u001b[0m \u001b[0mvectorizer\u001b[0m\u001b[0;34m.\u001b[0m\u001b[0mtransform\u001b[0m\u001b[0;34m(\u001b[0m\u001b[0mconstruction\u001b[0m\u001b[0;34m)\u001b[0m\u001b[0;34m.\u001b[0m\u001b[0mtoarray\u001b[0m\u001b[0;34m(\u001b[0m\u001b[0;34m)\u001b[0m\u001b[0;34m\u001b[0m\u001b[0;34m\u001b[0m\u001b[0m\n\u001b[0m\u001b[1;32m      5\u001b[0m \u001b[0;34m\u001b[0m\u001b[0m\n\u001b[1;32m      6\u001b[0m \u001b[0mpred\u001b[0m \u001b[0;34m=\u001b[0m \u001b[0mbestmodel\u001b[0m\u001b[0;34m.\u001b[0m\u001b[0mpredict\u001b[0m\u001b[0;34m(\u001b[0m\u001b[0mtest\u001b[0m\u001b[0;34m)\u001b[0m\u001b[0;34m\u001b[0m\u001b[0;34m\u001b[0m\u001b[0m\n",
            "\u001b[0;31mNameError\u001b[0m: name 'construction' is not defined"
          ]
        }
      ],
      "source": [
        "import pandas as pd\n",
        "accounting = ['EDUCATION Master of Business Administration Accounting University of Texas August 2010 - May 2012 Austin, TX Bachelor of Arts Accounting University of Texas August 2006 - May 2010 Austin, TX SKILLS QuickBooks Taxjar GAAP accounting principles Accounts payable Account receivable Financial reporting Tax accounting Expense reporting CERTIFICATIONS Certified Public Accountant (CPA) ey O/ ee eee ET ae CAREER OBJECTIVE With over a decade of experience establishing best accounting practices at growing tech companies, | have learned the value of proactively identifying and removing roadblocks to allow accounting to scale with the company. Motivated to continue this work at an early-stage financial consumer startup like AffiniPay. WORK EXPERIENCE Senior Accountant Teachers Pay Teachers July 2016 - current / Austin, TX » Established best practices for revenue recognition in compliance with ASC 606 through 50% YoY revenue growth Built out processes for monthly and quarterly filing of sales tax returns and registration in new states as required Oversaw balance sheet across cash accounts, accounts receivable, prepaid assets, fixed assets, accounts payable, and accrued expenses Partnered with management to drive business processes to improve efficiency of financial reporting by 40% Led a team of 2 junior accountants, providing mentorship and feedback through weekly 1:1 sessions Accountant Namely June 2071 - June 2016 / Austin, TX » Maintained company general ledger, monthly close processes, and account reconciliations through 100% YoY revenue growth Developed and executed internal controls to improve accuracy and reduce error rate by 22% Prepared financial staternents in accordance with GAAP that conformed to the monthly company budget process Prepared detailed schedules and technical accounting memorandum to support complex accounting treatment Supported management in executing on employee equity compensation plan to improve employee retention by 1% Bank Teller IBC Bank August 2008 - May 2011 / Austin, TX » Followed bank policies while processing and double-checking customer transactions for 100% accuracy » Assisted customers with a positive attitude, and explained bank products and services to 30+ new customers a week ']\n",
        "\n",
        "test = vectorizer.transform(accounting).toarray()\n",
        "\n",
        "pred = bestmodel.predict(test)\n",
        "print(categories[int(pred)])\n",
        "import tensorflow as tf\n",
        "\n",
        "sort_data = tf.nn.top_k(pred, k=1, sorted=True, name=None)\n",
        "array =np.array(sort_data.indices)\n",
        "\n",
        "final_prediction = np.argmax(pred)\n"
      ]
    },
    {
      "cell_type": "code",
      "execution_count": null,
      "metadata": {
        "id": "pigwHcFixhoR"
      },
      "outputs": [],
      "source": [
        "print('TOP 5 PREDICTED RESULTS : \\n', array)"
      ]
    },
    {
      "cell_type": "code",
      "execution_count": null,
      "metadata": {
        "id": "PYPTbe712GS_"
      },
      "outputs": [],
      "source": [
        "print('TOPMOST PREDICTED RESULTS : \\n', final_prediction)"
      ]
    }
  ],
  "metadata": {
    "colab": {
      "provenance": []
    },
    "kernelspec": {
      "display_name": "Python 3 (ipykernel)",
      "language": "python",
      "name": "python3"
    },
    "language_info": {
      "codemirror_mode": {
        "name": "ipython",
        "version": 3
      },
      "file_extension": ".py",
      "mimetype": "text/x-python",
      "name": "python",
      "nbconvert_exporter": "python",
      "pygments_lexer": "ipython3",
      "version": "3.9.1"
    }
  },
  "nbformat": 4,
  "nbformat_minor": 0
}