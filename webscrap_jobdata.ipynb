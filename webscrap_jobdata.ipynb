{
  "cells": [
    {
      "cell_type": "markdown",
      "metadata": {
        "id": "Ki2UCO4RnB_Z"
      },
      "source": [
        "# **WEBSCRAPING RESUME**\n",
        "\n",
        "---\n"
      ]
    },
    {
      "cell_type": "markdown",
      "metadata": {
        "id": "-A9SgaToWXl7"
      },
      "source": [
        "**Importing Required Libraries**"
      ]
    },
    {
      "cell_type": "code",
      "execution_count": null,
      "metadata": {
        "id": "qUL3YJMxi3pE"
      },
      "outputs": [],
      "source": [
        "import pandas as pd\n",
        "from bs4 import BeautifulSoup\n",
        "import requests"
      ]
    },
    {
      "cell_type": "markdown",
      "source": [
        "**Extract Data from Webpage**"
      ],
      "metadata": {
        "id": "OccvkQjs14Bl"
      }
    },
    {
      "cell_type": "code",
      "execution_count": null,
      "metadata": {
        "id": "yy0CXUP0i3mD"
      },
      "outputs": [],
      "source": [
        "headers = requests.utils.default_headers()\n",
        "headers.update({'User-Agent': 'Mozilla/5.0 (X11; Ubuntu; Linux x86_64; rv:52.0) Gecko/20100101 Firefox/52.0',})\n",
        "\n",
        "html = requests.get('https://resources.workable.com/job-descriptions/', headers = headers)\n",
        "soup1 = BeautifulSoup(html.text,\"lxml\")\n",
        "\n",
        "job_list_full = soup1.find('div',class_='col-md-9 order-md-3')\n",
        "\n",
        "jobs = soup1.find('div',class_ = 'container no-padding' )\n",
        "\n",
        "j = jobs.find_all('section', class_ = 'section-list')"
      ]
    },
    {
      "cell_type": "code",
      "execution_count": null,
      "metadata": {
        "id": "kA8YXsuTi3hd"
      },
      "outputs": [],
      "source": [
        "job_description, responsibilities, requirements_skills  = ([] for i in range(3))\n",
        "links = []\n",
        "roles = []"
      ]
    },
    {
      "cell_type": "code",
      "execution_count": null,
      "metadata": {
        "id": "uFQtfeTbvyFb"
      },
      "outputs": [],
      "source": [
        "jroles = []\n",
        "for role in j:\n",
        "  jroles.append(role.h5.a.text.strip())\n",
        "\n",
        "count = []\n",
        "for cnt in j:\n",
        "    lis = cnt.find('ul', class_ = 'row list-unstyled links-list')\n",
        "    for l in range(0, len(lis)):\n",
        "        c = lis.find_all('li')\n",
        "    count.append(c)\n",
        "\n",
        "arr = []\n",
        "for i in range(0, len(count)):\n",
        "    arr.append(len(count[i]))\n",
        "    \n",
        "industry = []\n",
        "for m in range(len(jroles)):\n",
        "  list1 = []\n",
        "  val = arr[m]\n",
        "  for n in range(val):\n",
        "    list1.append(jroles[m])\n",
        "\n",
        "  industry.extend(list1)"
      ]
    },
    {
      "cell_type": "code",
      "execution_count": null,
      "metadata": {
        "colab": {
          "base_uri": "https://localhost:8080/"
        },
        "id": "OMHI493YQaXp",
        "outputId": "9a555c27-0c2e-442d-ad5d-3aa74c98d705"
      },
      "outputs": [
        {
          "output_type": "execute_result",
          "data": {
            "text/plain": [
              "1038"
            ]
          },
          "metadata": {},
          "execution_count": 5
        }
      ],
      "source": [
        "len(industry)"
      ]
    },
    {
      "cell_type": "code",
      "execution_count": null,
      "metadata": {
        "id": "iUFGmMARQaXq"
      },
      "outputs": [],
      "source": [
        "for job_list in j:\n",
        "\n",
        "    lists = job_list.find('ul', class_ = 'row list-unstyled links-list')\n",
        "\n",
        "    for li in lists.find_all(\"li\"):\n",
        "        links.append(li.a['href'])\n",
        "        \n",
        "    for r in job_list.find_all('li'):\n",
        "        roles.append(r.a.text.strip().replace('\\xa0',' '))"
      ]
    },
    {
      "cell_type": "code",
      "execution_count": null,
      "metadata": {
        "colab": {
          "base_uri": "https://localhost:8080/"
        },
        "id": "ngOvbkTwQaXr",
        "outputId": "40c8a598-17b7-422d-8db2-3be06415a89c"
      },
      "outputs": [
        {
          "output_type": "execute_result",
          "data": {
            "text/plain": [
              "1038"
            ]
          },
          "metadata": {},
          "execution_count": 7
        }
      ],
      "source": [
        "len(links)"
      ]
    },
    {
      "cell_type": "code",
      "execution_count": null,
      "metadata": {
        "id": "WBA4NDUtwZwq"
      },
      "outputs": [],
      "source": [
        "for i in links:\n",
        "        html2 = requests.get(i, headers = headers)\n",
        "        soup2 = BeautifulSoup(html2.text,\"lxml\")\n",
        "\n",
        "        l = soup2.find('div', class_ = 'article-container tmpl')\n",
        "        \n",
        "        try:\n",
        "          first_h1 = l.select('p')[1].text.strip()\n",
        "          first_h2 = l.select('ul')[1].text.strip()\n",
        "          first_h3 = l.select('ul')[2].text.strip()\n",
        "        except:\n",
        "          pass\n",
        "\n",
        "        job_description.append(first_h1)\n",
        "        responsibilities.append(first_h2)\n",
        "        requirements_skills.append(first_h3)"
      ]
    },
    {
      "cell_type": "markdown",
      "source": [
        "**Creating a Data Frame**"
      ],
      "metadata": {
        "id": "X0p5IxB32Pzg"
      }
    },
    {
      "cell_type": "code",
      "execution_count": null,
      "metadata": {
        "id": "CSP8BatYi_uj",
        "colab": {
          "base_uri": "https://localhost:8080/",
          "height": 815
        },
        "outputId": "99d22af6-3e4f-4857-ff27-07c578529b41"
      },
      "outputs": [
        {
          "output_type": "execute_result",
          "data": {
            "text/plain": [
              "        industry                              job_designation  \\\n",
              "0     Accounting              Billing Manager job description   \n",
              "1     Accounting  Accounts Payable Specialist job description   \n",
              "2     Accounting               Medical Biller job description   \n",
              "3     Accounting                 Cost analyst job description   \n",
              "4     Accounting           Payroll Accountant job description   \n",
              "...          ...                                          ...   \n",
              "1033      Retail                 Area Manager job description   \n",
              "1034      Retail                 Retail Buyer job description   \n",
              "1035      Retail             Category Manager job description   \n",
              "1036      Retail                 Merchandiser job description   \n",
              "1037      Retail                Store Manager job description   \n",
              "\n",
              "                                        job_description  \\\n",
              "0     We are looking for a Billing Manager to join o...   \n",
              "1     We are looking for an Accounts Payable Special...   \n",
              "2     Use this Medical Biller job description to adv...   \n",
              "3     Similar job titles are cost specialist and cos...   \n",
              "4     Payroll accountants prepare employee salary st...   \n",
              "...                                                 ...   \n",
              "1033  We are looking for an experienced Area Manager...   \n",
              "1034  This Retail Buyer job description template is ...   \n",
              "1035  We are looking for a Category Manager to manag...   \n",
              "1036  This Merchandiser job description template is ...   \n",
              "1037  This Store Manager job description template is...   \n",
              "\n",
              "                                       responsibilities  \\\n",
              "0     Oversee the preparation of statements and bill...   \n",
              "1     Charge expenses to accounts and cost centers a...   \n",
              "2     Generate revenue by making payment arrangement...   \n",
              "3     Gather and analyze financial data\\nDetermine s...   \n",
              "4     Oversee employee paychecks\\nCalculate net sala...   \n",
              "...                                                 ...   \n",
              "1033  Formulate fruitful business development strate...   \n",
              "1034  Identify customer preferences and forecast con...   \n",
              "1035  Analyze data or insights to determine industry...   \n",
              "1036  Plan and develop merchandising strategies that...   \n",
              "1037  Develop business strategies to raise our custo...   \n",
              "\n",
              "                                    requirements_skills  \\\n",
              "0     Proven work experience as a Billing Manager or...   \n",
              "1     Proven work experience as an Accounts Payable ...   \n",
              "2     Proven work experience as a Medical Biller or ...   \n",
              "3     Proven experience as a cost analyst, cost spec...   \n",
              "4     Previous experience as a payroll accountant or...   \n",
              "...                                                 ...   \n",
              "1033  Proven experience as area manager, store manag...   \n",
              "1034  Proven experience as a retail buyer or relevan...   \n",
              "1035  Proven experience as category manager or simil...   \n",
              "1036  Proven working experience in merchandising\\nHi...   \n",
              "1037  Proven successful experience as a retail Store...   \n",
              "\n",
              "                                              url_links  \n",
              "0     https://resources.workable.com/billing-manager...  \n",
              "1     https://resources.workable.com/accounts-payabl...  \n",
              "2     https://resources.workable.com/medical-biller-...  \n",
              "3     https://resources.workable.com/cost-analyst-jo...  \n",
              "4     https://resources.workable.com/payroll-account...  \n",
              "...                                                 ...  \n",
              "1033  https://resources.workable.com/area-manager-jo...  \n",
              "1034  https://resources.workable.com/retail-buyer-jo...  \n",
              "1035  https://resources.workable.com/category-manage...  \n",
              "1036  https://resources.workable.com/merchandiser-jo...  \n",
              "1037  https://resources.workable.com/store-manager-j...  \n",
              "\n",
              "[1038 rows x 6 columns]"
            ],
            "text/html": [
              "\n",
              "  <div id=\"df-9bb63d40-8b55-4705-8597-99e352ad064b\">\n",
              "    <div class=\"colab-df-container\">\n",
              "      <div>\n",
              "<style scoped>\n",
              "    .dataframe tbody tr th:only-of-type {\n",
              "        vertical-align: middle;\n",
              "    }\n",
              "\n",
              "    .dataframe tbody tr th {\n",
              "        vertical-align: top;\n",
              "    }\n",
              "\n",
              "    .dataframe thead th {\n",
              "        text-align: right;\n",
              "    }\n",
              "</style>\n",
              "<table border=\"1\" class=\"dataframe\">\n",
              "  <thead>\n",
              "    <tr style=\"text-align: right;\">\n",
              "      <th></th>\n",
              "      <th>industry</th>\n",
              "      <th>job_designation</th>\n",
              "      <th>job_description</th>\n",
              "      <th>responsibilities</th>\n",
              "      <th>requirements_skills</th>\n",
              "      <th>url_links</th>\n",
              "    </tr>\n",
              "  </thead>\n",
              "  <tbody>\n",
              "    <tr>\n",
              "      <th>0</th>\n",
              "      <td>Accounting</td>\n",
              "      <td>Billing Manager job description</td>\n",
              "      <td>We are looking for a Billing Manager to join o...</td>\n",
              "      <td>Oversee the preparation of statements and bill...</td>\n",
              "      <td>Proven work experience as a Billing Manager or...</td>\n",
              "      <td>https://resources.workable.com/billing-manager...</td>\n",
              "    </tr>\n",
              "    <tr>\n",
              "      <th>1</th>\n",
              "      <td>Accounting</td>\n",
              "      <td>Accounts Payable Specialist job description</td>\n",
              "      <td>We are looking for an Accounts Payable Special...</td>\n",
              "      <td>Charge expenses to accounts and cost centers a...</td>\n",
              "      <td>Proven work experience as an Accounts Payable ...</td>\n",
              "      <td>https://resources.workable.com/accounts-payabl...</td>\n",
              "    </tr>\n",
              "    <tr>\n",
              "      <th>2</th>\n",
              "      <td>Accounting</td>\n",
              "      <td>Medical Biller job description</td>\n",
              "      <td>Use this Medical Biller job description to adv...</td>\n",
              "      <td>Generate revenue by making payment arrangement...</td>\n",
              "      <td>Proven work experience as a Medical Biller or ...</td>\n",
              "      <td>https://resources.workable.com/medical-biller-...</td>\n",
              "    </tr>\n",
              "    <tr>\n",
              "      <th>3</th>\n",
              "      <td>Accounting</td>\n",
              "      <td>Cost analyst job description</td>\n",
              "      <td>Similar job titles are cost specialist and cos...</td>\n",
              "      <td>Gather and analyze financial data\\nDetermine s...</td>\n",
              "      <td>Proven experience as a cost analyst, cost spec...</td>\n",
              "      <td>https://resources.workable.com/cost-analyst-jo...</td>\n",
              "    </tr>\n",
              "    <tr>\n",
              "      <th>4</th>\n",
              "      <td>Accounting</td>\n",
              "      <td>Payroll Accountant job description</td>\n",
              "      <td>Payroll accountants prepare employee salary st...</td>\n",
              "      <td>Oversee employee paychecks\\nCalculate net sala...</td>\n",
              "      <td>Previous experience as a payroll accountant or...</td>\n",
              "      <td>https://resources.workable.com/payroll-account...</td>\n",
              "    </tr>\n",
              "    <tr>\n",
              "      <th>...</th>\n",
              "      <td>...</td>\n",
              "      <td>...</td>\n",
              "      <td>...</td>\n",
              "      <td>...</td>\n",
              "      <td>...</td>\n",
              "      <td>...</td>\n",
              "    </tr>\n",
              "    <tr>\n",
              "      <th>1033</th>\n",
              "      <td>Retail</td>\n",
              "      <td>Area Manager job description</td>\n",
              "      <td>We are looking for an experienced Area Manager...</td>\n",
              "      <td>Formulate fruitful business development strate...</td>\n",
              "      <td>Proven experience as area manager, store manag...</td>\n",
              "      <td>https://resources.workable.com/area-manager-jo...</td>\n",
              "    </tr>\n",
              "    <tr>\n",
              "      <th>1034</th>\n",
              "      <td>Retail</td>\n",
              "      <td>Retail Buyer job description</td>\n",
              "      <td>This Retail Buyer job description template is ...</td>\n",
              "      <td>Identify customer preferences and forecast con...</td>\n",
              "      <td>Proven experience as a retail buyer or relevan...</td>\n",
              "      <td>https://resources.workable.com/retail-buyer-jo...</td>\n",
              "    </tr>\n",
              "    <tr>\n",
              "      <th>1035</th>\n",
              "      <td>Retail</td>\n",
              "      <td>Category Manager job description</td>\n",
              "      <td>We are looking for a Category Manager to manag...</td>\n",
              "      <td>Analyze data or insights to determine industry...</td>\n",
              "      <td>Proven experience as category manager or simil...</td>\n",
              "      <td>https://resources.workable.com/category-manage...</td>\n",
              "    </tr>\n",
              "    <tr>\n",
              "      <th>1036</th>\n",
              "      <td>Retail</td>\n",
              "      <td>Merchandiser job description</td>\n",
              "      <td>This Merchandiser job description template is ...</td>\n",
              "      <td>Plan and develop merchandising strategies that...</td>\n",
              "      <td>Proven working experience in merchandising\\nHi...</td>\n",
              "      <td>https://resources.workable.com/merchandiser-jo...</td>\n",
              "    </tr>\n",
              "    <tr>\n",
              "      <th>1037</th>\n",
              "      <td>Retail</td>\n",
              "      <td>Store Manager job description</td>\n",
              "      <td>This Store Manager job description template is...</td>\n",
              "      <td>Develop business strategies to raise our custo...</td>\n",
              "      <td>Proven successful experience as a retail Store...</td>\n",
              "      <td>https://resources.workable.com/store-manager-j...</td>\n",
              "    </tr>\n",
              "  </tbody>\n",
              "</table>\n",
              "<p>1038 rows × 6 columns</p>\n",
              "</div>\n",
              "      <button class=\"colab-df-convert\" onclick=\"convertToInteractive('df-9bb63d40-8b55-4705-8597-99e352ad064b')\"\n",
              "              title=\"Convert this dataframe to an interactive table.\"\n",
              "              style=\"display:none;\">\n",
              "        \n",
              "  <svg xmlns=\"http://www.w3.org/2000/svg\" height=\"24px\"viewBox=\"0 0 24 24\"\n",
              "       width=\"24px\">\n",
              "    <path d=\"M0 0h24v24H0V0z\" fill=\"none\"/>\n",
              "    <path d=\"M18.56 5.44l.94 2.06.94-2.06 2.06-.94-2.06-.94-.94-2.06-.94 2.06-2.06.94zm-11 1L8.5 8.5l.94-2.06 2.06-.94-2.06-.94L8.5 2.5l-.94 2.06-2.06.94zm10 10l.94 2.06.94-2.06 2.06-.94-2.06-.94-.94-2.06-.94 2.06-2.06.94z\"/><path d=\"M17.41 7.96l-1.37-1.37c-.4-.4-.92-.59-1.43-.59-.52 0-1.04.2-1.43.59L10.3 9.45l-7.72 7.72c-.78.78-.78 2.05 0 2.83L4 21.41c.39.39.9.59 1.41.59.51 0 1.02-.2 1.41-.59l7.78-7.78 2.81-2.81c.8-.78.8-2.07 0-2.86zM5.41 20L4 18.59l7.72-7.72 1.47 1.35L5.41 20z\"/>\n",
              "  </svg>\n",
              "      </button>\n",
              "      \n",
              "  <style>\n",
              "    .colab-df-container {\n",
              "      display:flex;\n",
              "      flex-wrap:wrap;\n",
              "      gap: 12px;\n",
              "    }\n",
              "\n",
              "    .colab-df-convert {\n",
              "      background-color: #E8F0FE;\n",
              "      border: none;\n",
              "      border-radius: 50%;\n",
              "      cursor: pointer;\n",
              "      display: none;\n",
              "      fill: #1967D2;\n",
              "      height: 32px;\n",
              "      padding: 0 0 0 0;\n",
              "      width: 32px;\n",
              "    }\n",
              "\n",
              "    .colab-df-convert:hover {\n",
              "      background-color: #E2EBFA;\n",
              "      box-shadow: 0px 1px 2px rgba(60, 64, 67, 0.3), 0px 1px 3px 1px rgba(60, 64, 67, 0.15);\n",
              "      fill: #174EA6;\n",
              "    }\n",
              "\n",
              "    [theme=dark] .colab-df-convert {\n",
              "      background-color: #3B4455;\n",
              "      fill: #D2E3FC;\n",
              "    }\n",
              "\n",
              "    [theme=dark] .colab-df-convert:hover {\n",
              "      background-color: #434B5C;\n",
              "      box-shadow: 0px 1px 3px 1px rgba(0, 0, 0, 0.15);\n",
              "      filter: drop-shadow(0px 1px 2px rgba(0, 0, 0, 0.3));\n",
              "      fill: #FFFFFF;\n",
              "    }\n",
              "  </style>\n",
              "\n",
              "      <script>\n",
              "        const buttonEl =\n",
              "          document.querySelector('#df-9bb63d40-8b55-4705-8597-99e352ad064b button.colab-df-convert');\n",
              "        buttonEl.style.display =\n",
              "          google.colab.kernel.accessAllowed ? 'block' : 'none';\n",
              "\n",
              "        async function convertToInteractive(key) {\n",
              "          const element = document.querySelector('#df-9bb63d40-8b55-4705-8597-99e352ad064b');\n",
              "          const dataTable =\n",
              "            await google.colab.kernel.invokeFunction('convertToInteractive',\n",
              "                                                     [key], {});\n",
              "          if (!dataTable) return;\n",
              "\n",
              "          const docLinkHtml = 'Like what you see? Visit the ' +\n",
              "            '<a target=\"_blank\" href=https://colab.research.google.com/notebooks/data_table.ipynb>data table notebook</a>'\n",
              "            + ' to learn more about interactive tables.';\n",
              "          element.innerHTML = '';\n",
              "          dataTable['output_type'] = 'display_data';\n",
              "          await google.colab.output.renderOutput(dataTable, element);\n",
              "          const docLink = document.createElement('div');\n",
              "          docLink.innerHTML = docLinkHtml;\n",
              "          element.appendChild(docLink);\n",
              "        }\n",
              "      </script>\n",
              "    </div>\n",
              "  </div>\n",
              "  "
            ]
          },
          "metadata": {},
          "execution_count": 9
        }
      ],
      "source": [
        "data = {\n",
        "    'industry' : industry,\n",
        "    'job_designation' : roles,\n",
        "    'job_description' : job_description, #job_brief\n",
        "    'responsibilities' : responsibilities,\n",
        "    'requirements_skills' : requirements_skills,\n",
        "    'url_links' : links\n",
        "    }\n",
        "\n",
        "df = pd.DataFrame(data)\n",
        "df"
      ]
    },
    {
      "cell_type": "code",
      "execution_count": null,
      "metadata": {
        "id": "WNeRrHQ-QaXs"
      },
      "outputs": [],
      "source": [
        "df_csv = df.to_csv('jd_data_designation.csv')"
      ]
    }
  ],
  "metadata": {
    "colab": {
      "provenance": []
    },
    "kernelspec": {
      "display_name": "Python 3 (ipykernel)",
      "language": "python",
      "name": "python3"
    },
    "language_info": {
      "codemirror_mode": {
        "name": "ipython",
        "version": 3
      },
      "file_extension": ".py",
      "mimetype": "text/x-python",
      "name": "python",
      "nbconvert_exporter": "python",
      "pygments_lexer": "ipython3",
      "version": "3.9.1"
    }
  },
  "nbformat": 4,
  "nbformat_minor": 0
}